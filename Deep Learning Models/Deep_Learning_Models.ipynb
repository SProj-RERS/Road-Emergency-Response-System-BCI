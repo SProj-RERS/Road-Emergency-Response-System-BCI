{
  "nbformat": 4,
  "nbformat_minor": 0,
  "metadata": {
    "colab": {
      "name": "Deep_Learning_Models.ipynb",
      "provenance": [],
      "collapsed_sections": []
    },
    "kernelspec": {
      "display_name": "Python 3",
      "name": "python3"
    },
    "language_info": {
      "name": "python"
    },
    "accelerator": "GPU"
  },
  "cells": [
    {
      "cell_type": "code",
      "metadata": {
        "id": "0ZAngd018qx7"
      },
      "source": [
        "import cv2\n",
        "import glob\n",
        "import numpy as np\n",
        "import matplotlib.pyplot as plt\n",
        "from tensorflow.keras.layers import Dense, Conv2D, Dropout, BatchNormalization, Input, LeakyReLU, Flatten, Dropout\n",
        "from tensorflow.keras.optimizers import Adam\n",
        "from tensorflow.keras import Model\n",
        "from sklearn.pipeline import make_pipeline\n",
        "from sklearn.preprocessing import StandardScaler\n",
        "from sklearn.svm import LinearSVC\n",
        "from sklearn.datasets import make_classification\n",
        "from sklearn import metrics\n",
        "from sklearn.metrics import classification_report, confusion_matrix\n",
        "import pandas as pd\n",
        "import seaborn as sns\n",
        "from tensorflow.keras.utils import to_categorical\n",
        "from tensorflow.keras.utils import plot_model"
      ],
      "execution_count": null,
      "outputs": []
    },
    {
      "cell_type": "code",
      "metadata": {
        "colab": {
          "base_uri": "https://localhost:8080/"
        },
        "id": "-K1ktfAdCELB",
        "outputId": "bb9518b2-4bdc-4a75-abe2-1f99948f4bdd"
      },
      "source": [
        " !gdown --id 1leY5kJRbk4URDuciIx2EqN5n3GtvdrMS"
      ],
      "execution_count": null,
      "outputs": [
        {
          "output_type": "stream",
          "text": [
            "Downloading...\n",
            "From: https://drive.google.com/uc?id=1leY5kJRbk4URDuciIx2EqN5n3GtvdrMS\n",
            "To: /content/EEG_Dataset.zip\n",
            "1.32GB [00:08, 158MB/s]\n"
          ],
          "name": "stdout"
        }
      ]
    },
    {
      "cell_type": "code",
      "metadata": {
        "colab": {
          "base_uri": "https://localhost:8080/"
        },
        "id": "hd1lMwL8Cf8w",
        "outputId": "feb053ca-cc52-4095-e72e-4b4bb31bb346"
      },
      "source": [
        "!unzip 'EEG_Dataset.zip'"
      ],
      "execution_count": null,
      "outputs": [
        {
          "output_type": "stream",
          "text": [
            "Archive:  EEG_Dataset.zip\n",
            "   creating: archive/\n",
            "   creating: archive/GAMEEMO/\n",
            "   creating: archive/GAMEEMO/(S01)/\n",
            "   creating: archive/GAMEEMO/(S01)/Preprocessed EEG Data/\n",
            "  inflating: archive/GAMEEMO/(S01)/Preprocessed EEG Data/S01G1AllChannels.csv  \n",
            "  inflating: archive/GAMEEMO/(S01)/Preprocessed EEG Data/S01G2AllChannels.csv  \n",
            "  inflating: archive/GAMEEMO/(S01)/Preprocessed EEG Data/S01G3AllChannels.csv  \n",
            "  inflating: archive/GAMEEMO/(S01)/Preprocessed EEG Data/S01G4AllChannels.csv  \n",
            "   creating: archive/GAMEEMO/(S01)/Raw EEG Data/\n",
            "   creating: archive/GAMEEMO/(S01)/Raw EEG Data/.csv format/\n",
            "  inflating: archive/GAMEEMO/(S01)/Raw EEG Data/.csv format/S01G1AllRawChannels.csv  \n",
            "  inflating: archive/GAMEEMO/(S01)/Raw EEG Data/.csv format/S01G2AllRawChannels.csv  \n",
            "  inflating: archive/GAMEEMO/(S01)/Raw EEG Data/.csv format/S01G3AllRawChannels.csv  \n",
            "  inflating: archive/GAMEEMO/(S01)/Raw EEG Data/.csv format/S01G4AllRawChannels.csv  \n",
            "   creating: archive/GAMEEMO/(S01)/Raw EEG Data/.mat format/\n",
            "  inflating: archive/GAMEEMO/(S01)/Raw EEG Data/.mat format/S01G1AllRawChannels.mat  \n",
            "  inflating: archive/GAMEEMO/(S01)/Raw EEG Data/.mat format/S01G2AllRawChannels.mat  \n",
            "  inflating: archive/GAMEEMO/(S01)/Raw EEG Data/.mat format/S01G3AllRawChannels.mat  \n",
            "  inflating: archive/GAMEEMO/(S01)/Raw EEG Data/.mat format/S01G4AllRawChannels.mat  \n",
            "   creating: archive/GAMEEMO/(S01)/SAM Ratings/\n",
            "  inflating: archive/GAMEEMO/(S01)/SAM Ratings/G1.pdf  \n",
            "  inflating: archive/GAMEEMO/(S01)/SAM Ratings/G2.pdf  \n",
            "  inflating: archive/GAMEEMO/(S01)/SAM Ratings/G3.pdf  \n",
            "  inflating: archive/GAMEEMO/(S01)/SAM Ratings/G4.pdf  \n",
            "   creating: archive/GAMEEMO/(S02)/\n",
            "   creating: archive/GAMEEMO/(S02)/Preprocessed EEG Data/\n",
            "  inflating: archive/GAMEEMO/(S02)/Preprocessed EEG Data/S02G1AllChannels.csv  \n",
            "  inflating: archive/GAMEEMO/(S02)/Preprocessed EEG Data/S02G2AllChannels.csv  \n",
            "  inflating: archive/GAMEEMO/(S02)/Preprocessed EEG Data/S02G3AllChannels.csv  \n",
            "  inflating: archive/GAMEEMO/(S02)/Preprocessed EEG Data/S02G4AllChannels.csv  \n",
            "   creating: archive/GAMEEMO/(S02)/Raw EEG Data/\n",
            "   creating: archive/GAMEEMO/(S02)/Raw EEG Data/.csv format/\n",
            "  inflating: archive/GAMEEMO/(S02)/Raw EEG Data/.csv format/S02G1AllRawChannels.csv  \n",
            "  inflating: archive/GAMEEMO/(S02)/Raw EEG Data/.csv format/S02G2AllRawChannels.csv  \n",
            "  inflating: archive/GAMEEMO/(S02)/Raw EEG Data/.csv format/S02G3AllRawChannels.csv  \n",
            "  inflating: archive/GAMEEMO/(S02)/Raw EEG Data/.csv format/S02G4AllRawChannels.csv  \n",
            "   creating: archive/GAMEEMO/(S02)/Raw EEG Data/.mat format/\n",
            "  inflating: archive/GAMEEMO/(S02)/Raw EEG Data/.mat format/S02G1AllRawChannels.mat  \n",
            "  inflating: archive/GAMEEMO/(S02)/Raw EEG Data/.mat format/S02G2AllRawChannels.mat  \n",
            "  inflating: archive/GAMEEMO/(S02)/Raw EEG Data/.mat format/S02G3AllRawChannels.mat  \n",
            "  inflating: archive/GAMEEMO/(S02)/Raw EEG Data/.mat format/S02G4AllRawChannels.mat  \n",
            "   creating: archive/GAMEEMO/(S02)/SAM Ratings/\n",
            "  inflating: archive/GAMEEMO/(S02)/SAM Ratings/G1.pdf  \n",
            "  inflating: archive/GAMEEMO/(S02)/SAM Ratings/G2.pdf  \n",
            "  inflating: archive/GAMEEMO/(S02)/SAM Ratings/G3.pdf  \n",
            "  inflating: archive/GAMEEMO/(S02)/SAM Ratings/G4.pdf  \n",
            "   creating: archive/GAMEEMO/(S03)/\n",
            "   creating: archive/GAMEEMO/(S03)/Preprocessed EEG Data/\n",
            "  inflating: archive/GAMEEMO/(S03)/Preprocessed EEG Data/S03G1AllChannels.csv  \n",
            "  inflating: archive/GAMEEMO/(S03)/Preprocessed EEG Data/S03G2AllChannels.csv  \n",
            "  inflating: archive/GAMEEMO/(S03)/Preprocessed EEG Data/S03G3AllChannels.csv  \n",
            "  inflating: archive/GAMEEMO/(S03)/Preprocessed EEG Data/S03G4AllChannels.csv  \n",
            "   creating: archive/GAMEEMO/(S03)/Raw EEG Data/\n",
            "   creating: archive/GAMEEMO/(S03)/Raw EEG Data/.csv format/\n",
            "  inflating: archive/GAMEEMO/(S03)/Raw EEG Data/.csv format/S03G1AllRawChannels.csv  \n",
            "  inflating: archive/GAMEEMO/(S03)/Raw EEG Data/.csv format/S03G2AllRawChannels.csv  \n",
            "  inflating: archive/GAMEEMO/(S03)/Raw EEG Data/.csv format/S03G3AllRawChannels.csv  \n",
            "  inflating: archive/GAMEEMO/(S03)/Raw EEG Data/.csv format/S03G4AllRawChannels.csv  \n",
            "   creating: archive/GAMEEMO/(S03)/Raw EEG Data/.mat format/\n",
            "  inflating: archive/GAMEEMO/(S03)/Raw EEG Data/.mat format/S03G1AllRawChannels.mat  \n",
            "  inflating: archive/GAMEEMO/(S03)/Raw EEG Data/.mat format/S03G2AllRawChannels.mat  \n",
            "  inflating: archive/GAMEEMO/(S03)/Raw EEG Data/.mat format/S03G3AllRawChannels.mat  \n",
            "  inflating: archive/GAMEEMO/(S03)/Raw EEG Data/.mat format/S03G4AllRawChannels.mat  \n",
            "   creating: archive/GAMEEMO/(S03)/SAM Ratings/\n",
            "  inflating: archive/GAMEEMO/(S03)/SAM Ratings/G1.pdf  \n",
            "  inflating: archive/GAMEEMO/(S03)/SAM Ratings/G2.pdf  \n",
            "  inflating: archive/GAMEEMO/(S03)/SAM Ratings/G3.pdf  \n",
            "  inflating: archive/GAMEEMO/(S03)/SAM Ratings/G4.pdf  \n",
            "   creating: archive/GAMEEMO/(S04)/\n",
            "   creating: archive/GAMEEMO/(S04)/Preprocessed EEG Data/\n",
            "  inflating: archive/GAMEEMO/(S04)/Preprocessed EEG Data/S04G1AllChannels.csv  \n",
            "  inflating: archive/GAMEEMO/(S04)/Preprocessed EEG Data/S04G2AllChannels.csv  \n",
            "  inflating: archive/GAMEEMO/(S04)/Preprocessed EEG Data/S04G3AllChannels.csv  \n",
            "  inflating: archive/GAMEEMO/(S04)/Preprocessed EEG Data/S04G4AllChannels.csv  \n",
            "   creating: archive/GAMEEMO/(S04)/Raw EEG Data/\n",
            "   creating: archive/GAMEEMO/(S04)/Raw EEG Data/.csv format/\n",
            "  inflating: archive/GAMEEMO/(S04)/Raw EEG Data/.csv format/S04G1AllRawChannels.csv  \n",
            "  inflating: archive/GAMEEMO/(S04)/Raw EEG Data/.csv format/S04G2AllRawChannels.csv  \n",
            "  inflating: archive/GAMEEMO/(S04)/Raw EEG Data/.csv format/S04G3AllRawChannels.csv  \n",
            "  inflating: archive/GAMEEMO/(S04)/Raw EEG Data/.csv format/S04G4AllRawChannels.csv  \n",
            "   creating: archive/GAMEEMO/(S04)/Raw EEG Data/.mat format/\n",
            "  inflating: archive/GAMEEMO/(S04)/Raw EEG Data/.mat format/S04G1AllRawChannels.mat  \n",
            "  inflating: archive/GAMEEMO/(S04)/Raw EEG Data/.mat format/S04G2AllRawChannels.mat  \n",
            "  inflating: archive/GAMEEMO/(S04)/Raw EEG Data/.mat format/S04G3AllRawChannels.mat  \n",
            "  inflating: archive/GAMEEMO/(S04)/Raw EEG Data/.mat format/S04G4AllRawChannels.mat  \n",
            "   creating: archive/GAMEEMO/(S04)/SAM Ratings/\n",
            "  inflating: archive/GAMEEMO/(S04)/SAM Ratings/G1.pdf  \n",
            "  inflating: archive/GAMEEMO/(S04)/SAM Ratings/G2.pdf  \n",
            "  inflating: archive/GAMEEMO/(S04)/SAM Ratings/G3.pdf  \n",
            "  inflating: archive/GAMEEMO/(S04)/SAM Ratings/G4.pdf  \n",
            "   creating: archive/GAMEEMO/(S05)/\n",
            "   creating: archive/GAMEEMO/(S05)/Preprocessed EEG Data/\n",
            "  inflating: archive/GAMEEMO/(S05)/Preprocessed EEG Data/S05G1AllChannels.csv  \n",
            "  inflating: archive/GAMEEMO/(S05)/Preprocessed EEG Data/S05G2AllChannels.csv  \n",
            "  inflating: archive/GAMEEMO/(S05)/Preprocessed EEG Data/S05G3AllChannels.csv  \n",
            "  inflating: archive/GAMEEMO/(S05)/Preprocessed EEG Data/S05G4AllChannels.csv  \n",
            "   creating: archive/GAMEEMO/(S05)/Raw EEG Data/\n",
            "   creating: archive/GAMEEMO/(S05)/Raw EEG Data/.csv format/\n",
            "  inflating: archive/GAMEEMO/(S05)/Raw EEG Data/.csv format/S05G1AllRawChannels.csv  \n",
            "  inflating: archive/GAMEEMO/(S05)/Raw EEG Data/.csv format/S05G2AllRawChannels.csv  \n",
            "  inflating: archive/GAMEEMO/(S05)/Raw EEG Data/.csv format/S05G3AllRawChannels.csv  \n",
            "  inflating: archive/GAMEEMO/(S05)/Raw EEG Data/.csv format/S05G4AllRawChannels.csv  \n",
            "   creating: archive/GAMEEMO/(S05)/Raw EEG Data/.mat format/\n",
            "  inflating: archive/GAMEEMO/(S05)/Raw EEG Data/.mat format/S05G1AllRawChannels.mat  \n",
            "  inflating: archive/GAMEEMO/(S05)/Raw EEG Data/.mat format/S05G2AllRawChannels.mat  \n",
            "  inflating: archive/GAMEEMO/(S05)/Raw EEG Data/.mat format/S05G3AllRawChannels.mat  \n",
            "  inflating: archive/GAMEEMO/(S05)/Raw EEG Data/.mat format/S05G4AllRawChannels.mat  \n",
            "   creating: archive/GAMEEMO/(S05)/SAM Ratings/\n",
            "  inflating: archive/GAMEEMO/(S05)/SAM Ratings/G1.pdf  \n",
            "  inflating: archive/GAMEEMO/(S05)/SAM Ratings/G2.pdf  \n",
            "  inflating: archive/GAMEEMO/(S05)/SAM Ratings/G3.pdf  \n",
            "  inflating: archive/GAMEEMO/(S05)/SAM Ratings/G4.pdf  \n",
            "   creating: archive/GAMEEMO/(S06)/\n",
            "   creating: archive/GAMEEMO/(S06)/Preprocessed EEG Data/\n",
            "  inflating: archive/GAMEEMO/(S06)/Preprocessed EEG Data/S06G1AllChannels.csv  \n",
            "  inflating: archive/GAMEEMO/(S06)/Preprocessed EEG Data/S06G2AllChannels.csv  \n",
            "  inflating: archive/GAMEEMO/(S06)/Preprocessed EEG Data/S06G3AllChannels.csv  \n",
            "  inflating: archive/GAMEEMO/(S06)/Preprocessed EEG Data/S06G4AllChannels.csv  \n",
            "   creating: archive/GAMEEMO/(S06)/Raw EEG Data/\n",
            "   creating: archive/GAMEEMO/(S06)/Raw EEG Data/.csv format/\n",
            "  inflating: archive/GAMEEMO/(S06)/Raw EEG Data/.csv format/S06G1AllRawChannels.csv  \n",
            "  inflating: archive/GAMEEMO/(S06)/Raw EEG Data/.csv format/S06G2AllRawChannels.csv  \n",
            "  inflating: archive/GAMEEMO/(S06)/Raw EEG Data/.csv format/S06G3AllRawChannels.csv  \n",
            "  inflating: archive/GAMEEMO/(S06)/Raw EEG Data/.csv format/S06G4AllRawChannels.csv  \n",
            "   creating: archive/GAMEEMO/(S06)/Raw EEG Data/.mat format/\n",
            "  inflating: archive/GAMEEMO/(S06)/Raw EEG Data/.mat format/S06G1AllRawChannels.mat  \n",
            "  inflating: archive/GAMEEMO/(S06)/Raw EEG Data/.mat format/S06G2AllRawChannels.mat  \n",
            "  inflating: archive/GAMEEMO/(S06)/Raw EEG Data/.mat format/S06G3AllRawChannels.mat  \n",
            "  inflating: archive/GAMEEMO/(S06)/Raw EEG Data/.mat format/S06G4AllRawChannels.mat  \n",
            "   creating: archive/GAMEEMO/(S06)/SAM Ratings/\n",
            "  inflating: archive/GAMEEMO/(S06)/SAM Ratings/G1.pdf  \n",
            "  inflating: archive/GAMEEMO/(S06)/SAM Ratings/G2.pdf  \n",
            "  inflating: archive/GAMEEMO/(S06)/SAM Ratings/G3.pdf  \n",
            "  inflating: archive/GAMEEMO/(S06)/SAM Ratings/G4.pdf  \n",
            "   creating: archive/GAMEEMO/(S07)/\n",
            "   creating: archive/GAMEEMO/(S07)/Preprocessed EEG Data/\n",
            "  inflating: archive/GAMEEMO/(S07)/Preprocessed EEG Data/S07G1AllChannels.csv  \n",
            "  inflating: archive/GAMEEMO/(S07)/Preprocessed EEG Data/S07G2AllChannels.csv  \n",
            "  inflating: archive/GAMEEMO/(S07)/Preprocessed EEG Data/S07G3AllChannels.csv  \n",
            "  inflating: archive/GAMEEMO/(S07)/Preprocessed EEG Data/S07G4AllChannels.csv  \n",
            "   creating: archive/GAMEEMO/(S07)/Raw EEG Data/\n",
            "   creating: archive/GAMEEMO/(S07)/Raw EEG Data/.csv format/\n",
            "  inflating: archive/GAMEEMO/(S07)/Raw EEG Data/.csv format/S07G1AllRawChannels.csv  \n",
            "  inflating: archive/GAMEEMO/(S07)/Raw EEG Data/.csv format/S07G2AllRawChannels.csv  \n",
            "  inflating: archive/GAMEEMO/(S07)/Raw EEG Data/.csv format/S07G3AllRawChannels.csv  \n",
            "  inflating: archive/GAMEEMO/(S07)/Raw EEG Data/.csv format/S07G4AllRawChannels.csv  \n",
            "   creating: archive/GAMEEMO/(S07)/Raw EEG Data/.mat format/\n",
            "  inflating: archive/GAMEEMO/(S07)/Raw EEG Data/.mat format/S07G1AllRawChannels.mat  \n",
            "  inflating: archive/GAMEEMO/(S07)/Raw EEG Data/.mat format/S07G2AllRawChannels.mat  \n",
            "  inflating: archive/GAMEEMO/(S07)/Raw EEG Data/.mat format/S07G3AllRawChannels.mat  \n",
            "  inflating: archive/GAMEEMO/(S07)/Raw EEG Data/.mat format/S07G4AllRawChannels.mat  \n",
            "   creating: archive/GAMEEMO/(S07)/SAM Ratings/\n",
            "  inflating: archive/GAMEEMO/(S07)/SAM Ratings/G1.pdf  \n",
            "  inflating: archive/GAMEEMO/(S07)/SAM Ratings/G2.pdf  \n",
            "  inflating: archive/GAMEEMO/(S07)/SAM Ratings/G3.pdf  \n",
            "  inflating: archive/GAMEEMO/(S07)/SAM Ratings/G4.pdf  \n",
            "   creating: archive/GAMEEMO/(S08)/\n",
            "   creating: archive/GAMEEMO/(S08)/Preprocessed EEG Data/\n",
            "  inflating: archive/GAMEEMO/(S08)/Preprocessed EEG Data/S08G1AllChannels.csv  \n",
            "  inflating: archive/GAMEEMO/(S08)/Preprocessed EEG Data/S08G2AllChannels.csv  \n",
            "  inflating: archive/GAMEEMO/(S08)/Preprocessed EEG Data/S08G3AllChannels.csv  \n",
            "  inflating: archive/GAMEEMO/(S08)/Preprocessed EEG Data/S08G4AllChannels.csv  \n",
            "   creating: archive/GAMEEMO/(S08)/Raw EEG Data/\n",
            "   creating: archive/GAMEEMO/(S08)/Raw EEG Data/.csv format/\n",
            "  inflating: archive/GAMEEMO/(S08)/Raw EEG Data/.csv format/S08G1AllRawChannels.csv  \n",
            "  inflating: archive/GAMEEMO/(S08)/Raw EEG Data/.csv format/S08G2AllRawChannels.csv  \n",
            "  inflating: archive/GAMEEMO/(S08)/Raw EEG Data/.csv format/S08G3AllRawChannels.csv  \n",
            "  inflating: archive/GAMEEMO/(S08)/Raw EEG Data/.csv format/S08G4AllRawChannels.csv  \n",
            "   creating: archive/GAMEEMO/(S08)/Raw EEG Data/.mat format/\n",
            "  inflating: archive/GAMEEMO/(S08)/Raw EEG Data/.mat format/S08G1AllRawChannels.mat  \n",
            "  inflating: archive/GAMEEMO/(S08)/Raw EEG Data/.mat format/S08G2AllRawChannels.mat  \n",
            "  inflating: archive/GAMEEMO/(S08)/Raw EEG Data/.mat format/S08G3AllRawChannels.mat  \n",
            "  inflating: archive/GAMEEMO/(S08)/Raw EEG Data/.mat format/S08G4AllRawChannels.mat  \n",
            "   creating: archive/GAMEEMO/(S08)/SAM Ratings/\n",
            "  inflating: archive/GAMEEMO/(S08)/SAM Ratings/G1.pdf  \n",
            "  inflating: archive/GAMEEMO/(S08)/SAM Ratings/G2.pdf  \n",
            "  inflating: archive/GAMEEMO/(S08)/SAM Ratings/G3.pdf  \n",
            "  inflating: archive/GAMEEMO/(S08)/SAM Ratings/G4.pdf  \n",
            "   creating: archive/GAMEEMO/(S09)/\n",
            "   creating: archive/GAMEEMO/(S09)/Preprocessed EEG Data/\n",
            "  inflating: archive/GAMEEMO/(S09)/Preprocessed EEG Data/S09G1AllChannels.csv  \n",
            "  inflating: archive/GAMEEMO/(S09)/Preprocessed EEG Data/S09G2AllChannels.csv  \n",
            "  inflating: archive/GAMEEMO/(S09)/Preprocessed EEG Data/S09G3AllChannels.csv  \n",
            "  inflating: archive/GAMEEMO/(S09)/Preprocessed EEG Data/S09G4AllChannels.csv  \n",
            "   creating: archive/GAMEEMO/(S09)/Raw EEG Data/\n",
            "   creating: archive/GAMEEMO/(S09)/Raw EEG Data/.csv format/\n",
            "  inflating: archive/GAMEEMO/(S09)/Raw EEG Data/.csv format/S09G1AllRawChannels.csv  \n",
            "  inflating: archive/GAMEEMO/(S09)/Raw EEG Data/.csv format/S09G2AllRawChannels.csv  \n",
            "  inflating: archive/GAMEEMO/(S09)/Raw EEG Data/.csv format/S09G3AllRawChannels.csv  \n",
            "  inflating: archive/GAMEEMO/(S09)/Raw EEG Data/.csv format/S09G4AllRawChannels.csv  \n",
            "   creating: archive/GAMEEMO/(S09)/Raw EEG Data/.mat format/\n",
            "  inflating: archive/GAMEEMO/(S09)/Raw EEG Data/.mat format/S09G1AllRawChannels.mat  \n",
            "  inflating: archive/GAMEEMO/(S09)/Raw EEG Data/.mat format/S09G2AllRawChannels.mat  \n",
            "  inflating: archive/GAMEEMO/(S09)/Raw EEG Data/.mat format/S09G3AllRawChannels.mat  \n",
            "  inflating: archive/GAMEEMO/(S09)/Raw EEG Data/.mat format/S09G4AllRawChannels.mat  \n",
            "   creating: archive/GAMEEMO/(S09)/SAM Ratings/\n",
            "  inflating: archive/GAMEEMO/(S09)/SAM Ratings/G1.pdf  \n",
            "  inflating: archive/GAMEEMO/(S09)/SAM Ratings/G2.pdf  \n",
            "  inflating: archive/GAMEEMO/(S09)/SAM Ratings/G3.pdf  \n",
            "  inflating: archive/GAMEEMO/(S09)/SAM Ratings/G4.pdf  \n",
            "   creating: archive/GAMEEMO/(S10)/\n",
            "   creating: archive/GAMEEMO/(S10)/Preprocessed EEG Data/\n",
            "  inflating: archive/GAMEEMO/(S10)/Preprocessed EEG Data/S10G1AllChannels.csv  \n",
            "  inflating: archive/GAMEEMO/(S10)/Preprocessed EEG Data/S10G2AllChannels.csv  \n",
            "  inflating: archive/GAMEEMO/(S10)/Preprocessed EEG Data/S10G3AllChannels.csv  \n",
            "  inflating: archive/GAMEEMO/(S10)/Preprocessed EEG Data/S10G4AllChannels.csv  \n",
            "   creating: archive/GAMEEMO/(S10)/Raw EEG Data/\n",
            "   creating: archive/GAMEEMO/(S10)/Raw EEG Data/.csv format/\n",
            "  inflating: archive/GAMEEMO/(S10)/Raw EEG Data/.csv format/S10G1AllRawChannels.csv  \n",
            "  inflating: archive/GAMEEMO/(S10)/Raw EEG Data/.csv format/S10G2AllRawChannels.csv  \n",
            "  inflating: archive/GAMEEMO/(S10)/Raw EEG Data/.csv format/S10G3AllRawChannels.csv  \n",
            "  inflating: archive/GAMEEMO/(S10)/Raw EEG Data/.csv format/S10G4AllRawChannels.csv  \n",
            "   creating: archive/GAMEEMO/(S10)/Raw EEG Data/.mat format/\n",
            "  inflating: archive/GAMEEMO/(S10)/Raw EEG Data/.mat format/S10G1AllRawChannels.mat  \n",
            "  inflating: archive/GAMEEMO/(S10)/Raw EEG Data/.mat format/S10G2AllRawChannels.mat  \n",
            "  inflating: archive/GAMEEMO/(S10)/Raw EEG Data/.mat format/S10G3AllRawChannels.mat  \n",
            "  inflating: archive/GAMEEMO/(S10)/Raw EEG Data/.mat format/S10G4AllRawChannels.mat  \n",
            "   creating: archive/GAMEEMO/(S10)/SAM Ratings/\n",
            "  inflating: archive/GAMEEMO/(S10)/SAM Ratings/G1.pdf  \n",
            "  inflating: archive/GAMEEMO/(S10)/SAM Ratings/G2.pdf  \n",
            "  inflating: archive/GAMEEMO/(S10)/SAM Ratings/G3.pdf  \n",
            "  inflating: archive/GAMEEMO/(S10)/SAM Ratings/G4.pdf  \n",
            "   creating: archive/GAMEEMO/(S11)/\n",
            "   creating: archive/GAMEEMO/(S11)/Preprocessed EEG Data/\n",
            "  inflating: archive/GAMEEMO/(S11)/Preprocessed EEG Data/S11G1AllChannels.csv  \n",
            "  inflating: archive/GAMEEMO/(S11)/Preprocessed EEG Data/S11G2AllChannels.csv  \n",
            "  inflating: archive/GAMEEMO/(S11)/Preprocessed EEG Data/S11G3AllChannels.csv  \n",
            "  inflating: archive/GAMEEMO/(S11)/Preprocessed EEG Data/S11G4AllChannels.csv  \n",
            "   creating: archive/GAMEEMO/(S11)/Raw EEG Data/\n",
            "   creating: archive/GAMEEMO/(S11)/Raw EEG Data/.csv format/\n",
            "  inflating: archive/GAMEEMO/(S11)/Raw EEG Data/.csv format/S11G1AllRawChannels.csv  \n",
            "  inflating: archive/GAMEEMO/(S11)/Raw EEG Data/.csv format/S11G2AllRawChannels.csv  \n",
            "  inflating: archive/GAMEEMO/(S11)/Raw EEG Data/.csv format/S11G3AllRawChannels.csv  \n",
            "  inflating: archive/GAMEEMO/(S11)/Raw EEG Data/.csv format/S11G4AllRawChannels.csv  \n",
            "   creating: archive/GAMEEMO/(S11)/Raw EEG Data/.mat format/\n",
            "  inflating: archive/GAMEEMO/(S11)/Raw EEG Data/.mat format/S11G1AllRawChannels.mat  \n",
            "  inflating: archive/GAMEEMO/(S11)/Raw EEG Data/.mat format/S11G2AllRawChannels.mat  \n",
            "  inflating: archive/GAMEEMO/(S11)/Raw EEG Data/.mat format/S11G3AllRawChannels.mat  \n",
            "  inflating: archive/GAMEEMO/(S11)/Raw EEG Data/.mat format/S11G4AllRawChannels.mat  \n",
            "   creating: archive/GAMEEMO/(S11)/SAM Ratings/\n",
            "  inflating: archive/GAMEEMO/(S11)/SAM Ratings/G1.pdf  \n",
            "  inflating: archive/GAMEEMO/(S11)/SAM Ratings/G2.pdf  \n",
            "  inflating: archive/GAMEEMO/(S11)/SAM Ratings/G3.pdf  \n",
            "  inflating: archive/GAMEEMO/(S11)/SAM Ratings/G4.pdf  \n",
            "   creating: archive/GAMEEMO/(S12)/\n",
            "   creating: archive/GAMEEMO/(S12)/Preprocessed EEG Data/\n",
            "  inflating: archive/GAMEEMO/(S12)/Preprocessed EEG Data/S12G1AllChannels.csv  \n",
            "  inflating: archive/GAMEEMO/(S12)/Preprocessed EEG Data/S12G2AllChannels.csv  \n",
            "  inflating: archive/GAMEEMO/(S12)/Preprocessed EEG Data/S12G3AllChannels.csv  \n",
            "  inflating: archive/GAMEEMO/(S12)/Preprocessed EEG Data/S12G4AllChannels.csv  \n",
            "   creating: archive/GAMEEMO/(S12)/Raw EEG Data/\n",
            "   creating: archive/GAMEEMO/(S12)/Raw EEG Data/.csv format/\n",
            "  inflating: archive/GAMEEMO/(S12)/Raw EEG Data/.csv format/S12G1AllRawChannels.csv  \n",
            "  inflating: archive/GAMEEMO/(S12)/Raw EEG Data/.csv format/S12G2AllRawChannels.csv  \n",
            "  inflating: archive/GAMEEMO/(S12)/Raw EEG Data/.csv format/S12G3AllRawChannels.csv  \n",
            "  inflating: archive/GAMEEMO/(S12)/Raw EEG Data/.csv format/S12G4AllRawChannels.csv  \n",
            "   creating: archive/GAMEEMO/(S12)/Raw EEG Data/.mat format/\n",
            "  inflating: archive/GAMEEMO/(S12)/Raw EEG Data/.mat format/S12G1AllRawChannels.mat  \n",
            "  inflating: archive/GAMEEMO/(S12)/Raw EEG Data/.mat format/S12G2AllRawChannels.mat  \n",
            "  inflating: archive/GAMEEMO/(S12)/Raw EEG Data/.mat format/S12G3AllRawChannels.mat  \n",
            "  inflating: archive/GAMEEMO/(S12)/Raw EEG Data/.mat format/S12G4AllRawChannels.mat  \n",
            "   creating: archive/GAMEEMO/(S12)/SAM Ratings/\n",
            "  inflating: archive/GAMEEMO/(S12)/SAM Ratings/G1.pdf  \n",
            "  inflating: archive/GAMEEMO/(S12)/SAM Ratings/G2.pdf  \n",
            "  inflating: archive/GAMEEMO/(S12)/SAM Ratings/G3.pdf  \n",
            "  inflating: archive/GAMEEMO/(S12)/SAM Ratings/G4.pdf  \n",
            "   creating: archive/GAMEEMO/(S13)/\n",
            "   creating: archive/GAMEEMO/(S13)/Preprocessed EEG Data/\n",
            "  inflating: archive/GAMEEMO/(S13)/Preprocessed EEG Data/S13G1AllChannels.csv  \n",
            "  inflating: archive/GAMEEMO/(S13)/Preprocessed EEG Data/S13G2AllChannels.csv  \n",
            "  inflating: archive/GAMEEMO/(S13)/Preprocessed EEG Data/S13G3AllChannels.csv  \n",
            "  inflating: archive/GAMEEMO/(S13)/Preprocessed EEG Data/S13G4AllChannels.csv  \n",
            "   creating: archive/GAMEEMO/(S13)/Raw EEG Data/\n",
            "   creating: archive/GAMEEMO/(S13)/Raw EEG Data/.csv format/\n",
            "  inflating: archive/GAMEEMO/(S13)/Raw EEG Data/.csv format/S13G1AllRawChannels.csv  \n",
            "  inflating: archive/GAMEEMO/(S13)/Raw EEG Data/.csv format/S13G2AllRawChannels.csv  \n",
            "  inflating: archive/GAMEEMO/(S13)/Raw EEG Data/.csv format/S13G3AllRawChannels.csv  \n",
            "  inflating: archive/GAMEEMO/(S13)/Raw EEG Data/.csv format/S13G4AllRawChannels.csv  \n",
            "   creating: archive/GAMEEMO/(S13)/Raw EEG Data/.mat format/\n",
            "  inflating: archive/GAMEEMO/(S13)/Raw EEG Data/.mat format/S13G1AllRawChannels.mat  \n",
            "  inflating: archive/GAMEEMO/(S13)/Raw EEG Data/.mat format/S13G2AllRawChannels.mat  \n",
            "  inflating: archive/GAMEEMO/(S13)/Raw EEG Data/.mat format/S13G3AllRawChannels.mat  \n",
            "  inflating: archive/GAMEEMO/(S13)/Raw EEG Data/.mat format/S13G4AllRawChannels.mat  \n",
            "   creating: archive/GAMEEMO/(S13)/SAM Ratings/\n",
            "  inflating: archive/GAMEEMO/(S13)/SAM Ratings/G1.pdf  \n",
            "  inflating: archive/GAMEEMO/(S13)/SAM Ratings/G2.pdf  \n",
            "  inflating: archive/GAMEEMO/(S13)/SAM Ratings/G3.pdf  \n",
            "  inflating: archive/GAMEEMO/(S13)/SAM Ratings/G4.pdf  \n",
            "   creating: archive/GAMEEMO/(S14)/\n",
            "   creating: archive/GAMEEMO/(S14)/Preprocessed EEG Data/\n",
            "  inflating: archive/GAMEEMO/(S14)/Preprocessed EEG Data/S14G1AllChannels.csv  \n",
            "  inflating: archive/GAMEEMO/(S14)/Preprocessed EEG Data/S14G2AllChannels.csv  \n",
            "  inflating: archive/GAMEEMO/(S14)/Preprocessed EEG Data/S14G3AllChannels.csv  \n",
            "  inflating: archive/GAMEEMO/(S14)/Preprocessed EEG Data/S14G4AllChannels.csv  \n",
            "   creating: archive/GAMEEMO/(S14)/Raw EEG Data/\n",
            "   creating: archive/GAMEEMO/(S14)/Raw EEG Data/.csv format/\n",
            "  inflating: archive/GAMEEMO/(S14)/Raw EEG Data/.csv format/S14G1AllRawChannels.csv  \n",
            "  inflating: archive/GAMEEMO/(S14)/Raw EEG Data/.csv format/S14G2AllRawChannels.csv  \n",
            "  inflating: archive/GAMEEMO/(S14)/Raw EEG Data/.csv format/S14G3AllRawChannels.csv  \n",
            "  inflating: archive/GAMEEMO/(S14)/Raw EEG Data/.csv format/S14G4AllRawChannels.csv  \n",
            "   creating: archive/GAMEEMO/(S14)/Raw EEG Data/.mat format/\n",
            "  inflating: archive/GAMEEMO/(S14)/Raw EEG Data/.mat format/S14G1AllRawChannels.mat  \n",
            "  inflating: archive/GAMEEMO/(S14)/Raw EEG Data/.mat format/S14G2AllRawChannels.mat  \n",
            "  inflating: archive/GAMEEMO/(S14)/Raw EEG Data/.mat format/S14G3AllRawChannels.mat  \n",
            "  inflating: archive/GAMEEMO/(S14)/Raw EEG Data/.mat format/S14G4AllRawChannels.mat  \n",
            "   creating: archive/GAMEEMO/(S14)/SAM Ratings/\n",
            "  inflating: archive/GAMEEMO/(S14)/SAM Ratings/G1.pdf  \n",
            "  inflating: archive/GAMEEMO/(S14)/SAM Ratings/G2.pdf  \n",
            "  inflating: archive/GAMEEMO/(S14)/SAM Ratings/G3.pdf  \n",
            "  inflating: archive/GAMEEMO/(S14)/SAM Ratings/G4.pdf  \n",
            "   creating: archive/GAMEEMO/(S15)/\n",
            "   creating: archive/GAMEEMO/(S15)/Preprocessed EEG Data/\n",
            "  inflating: archive/GAMEEMO/(S15)/Preprocessed EEG Data/S15G1AllChannels.csv  \n",
            "  inflating: archive/GAMEEMO/(S15)/Preprocessed EEG Data/S15G2AllChannels.csv  \n",
            "  inflating: archive/GAMEEMO/(S15)/Preprocessed EEG Data/S15G3AllChannels.csv  \n",
            "  inflating: archive/GAMEEMO/(S15)/Preprocessed EEG Data/S15G4AllChannels.csv  \n",
            "   creating: archive/GAMEEMO/(S15)/Raw EEG Data/\n",
            "   creating: archive/GAMEEMO/(S15)/Raw EEG Data/.csv format/\n",
            "  inflating: archive/GAMEEMO/(S15)/Raw EEG Data/.csv format/S15G1AllRawChannels.csv  \n",
            "  inflating: archive/GAMEEMO/(S15)/Raw EEG Data/.csv format/S15G2AllRawChannels.csv  \n",
            "  inflating: archive/GAMEEMO/(S15)/Raw EEG Data/.csv format/S15G3AllRawChannels.csv  \n",
            "  inflating: archive/GAMEEMO/(S15)/Raw EEG Data/.csv format/S15G4AllRawChannels.csv  \n",
            "   creating: archive/GAMEEMO/(S15)/Raw EEG Data/.mat format/\n",
            "  inflating: archive/GAMEEMO/(S15)/Raw EEG Data/.mat format/S15G1AllRawChannels.mat  \n",
            "  inflating: archive/GAMEEMO/(S15)/Raw EEG Data/.mat format/S15G2AllRawChannels.mat  \n",
            "  inflating: archive/GAMEEMO/(S15)/Raw EEG Data/.mat format/S15G3AllRawChannels.mat  \n",
            "  inflating: archive/GAMEEMO/(S15)/Raw EEG Data/.mat format/S15G4AllRawChannels.mat  \n",
            "   creating: archive/GAMEEMO/(S15)/SAM Ratings/\n",
            "  inflating: archive/GAMEEMO/(S15)/SAM Ratings/G1.pdf  \n",
            "  inflating: archive/GAMEEMO/(S15)/SAM Ratings/G2.pdf  \n",
            "  inflating: archive/GAMEEMO/(S15)/SAM Ratings/G3.pdf  \n",
            "  inflating: archive/GAMEEMO/(S15)/SAM Ratings/G4.pdf  \n",
            "   creating: archive/GAMEEMO/(S16)/\n",
            "   creating: archive/GAMEEMO/(S16)/Preprocessed EEG Data/\n",
            "  inflating: archive/GAMEEMO/(S16)/Preprocessed EEG Data/S16G1AllChannels.csv  \n",
            "  inflating: archive/GAMEEMO/(S16)/Preprocessed EEG Data/S16G2AllChannels.csv  \n",
            "  inflating: archive/GAMEEMO/(S16)/Preprocessed EEG Data/S16G3AllChannels.csv  \n",
            "  inflating: archive/GAMEEMO/(S16)/Preprocessed EEG Data/S16G4AllChannels.csv  \n",
            "   creating: archive/GAMEEMO/(S16)/Raw EEG Data/\n",
            "   creating: archive/GAMEEMO/(S16)/Raw EEG Data/.csv format/\n",
            "  inflating: archive/GAMEEMO/(S16)/Raw EEG Data/.csv format/S16G1AllRawChannels.csv  \n",
            "  inflating: archive/GAMEEMO/(S16)/Raw EEG Data/.csv format/S16G2AllRawChannels.csv  \n",
            "  inflating: archive/GAMEEMO/(S16)/Raw EEG Data/.csv format/S16G3AllRawChannels.csv  \n",
            "  inflating: archive/GAMEEMO/(S16)/Raw EEG Data/.csv format/S16G4AllRawChannels.csv  \n",
            "   creating: archive/GAMEEMO/(S16)/Raw EEG Data/.mat format/\n",
            "  inflating: archive/GAMEEMO/(S16)/Raw EEG Data/.mat format/S16G1AllRawChannels.mat  \n",
            "  inflating: archive/GAMEEMO/(S16)/Raw EEG Data/.mat format/S16G2AllRawChannels.mat  \n",
            "  inflating: archive/GAMEEMO/(S16)/Raw EEG Data/.mat format/S16G3AllRawChannels.mat  \n",
            "  inflating: archive/GAMEEMO/(S16)/Raw EEG Data/.mat format/S16G4AllRawChannels.mat  \n",
            "   creating: archive/GAMEEMO/(S16)/SAM Ratings/\n",
            "  inflating: archive/GAMEEMO/(S16)/SAM Ratings/G1.pdf  \n",
            "  inflating: archive/GAMEEMO/(S16)/SAM Ratings/G2.pdf  \n",
            "  inflating: archive/GAMEEMO/(S16)/SAM Ratings/G3.pdf  \n",
            "  inflating: archive/GAMEEMO/(S16)/SAM Ratings/G4.pdf  \n",
            "   creating: archive/GAMEEMO/(S17)/\n",
            "   creating: archive/GAMEEMO/(S17)/Preprocessed EEG Data/\n",
            "  inflating: archive/GAMEEMO/(S17)/Preprocessed EEG Data/S17G1AllChannels.csv  \n",
            "  inflating: archive/GAMEEMO/(S17)/Preprocessed EEG Data/S17G2AllChannels.csv  \n",
            "  inflating: archive/GAMEEMO/(S17)/Preprocessed EEG Data/S17G3AllChannels.csv  \n",
            "  inflating: archive/GAMEEMO/(S17)/Preprocessed EEG Data/S17G4AllChannels.csv  \n",
            "   creating: archive/GAMEEMO/(S17)/Raw EEG Data/\n",
            "   creating: archive/GAMEEMO/(S17)/Raw EEG Data/.csv format/\n",
            "  inflating: archive/GAMEEMO/(S17)/Raw EEG Data/.csv format/S17G1AllRawChannels.csv  \n",
            "  inflating: archive/GAMEEMO/(S17)/Raw EEG Data/.csv format/S17G2AllRawChannels.csv  \n",
            "  inflating: archive/GAMEEMO/(S17)/Raw EEG Data/.csv format/S17G3AllRawChannels.csv  \n",
            "  inflating: archive/GAMEEMO/(S17)/Raw EEG Data/.csv format/S17G4AllRawChannels.csv  \n",
            "   creating: archive/GAMEEMO/(S17)/Raw EEG Data/.mat format/\n",
            "  inflating: archive/GAMEEMO/(S17)/Raw EEG Data/.mat format/S17G1AllRawChannels.mat  \n",
            "  inflating: archive/GAMEEMO/(S17)/Raw EEG Data/.mat format/S17G2AllRawChannels.mat  \n",
            "  inflating: archive/GAMEEMO/(S17)/Raw EEG Data/.mat format/S17G3AllRawChannels.mat  \n",
            "  inflating: archive/GAMEEMO/(S17)/Raw EEG Data/.mat format/S17G4AllRawChannels.mat  \n",
            "   creating: archive/GAMEEMO/(S17)/SAM Ratings/\n",
            "  inflating: archive/GAMEEMO/(S17)/SAM Ratings/G1.pdf  \n",
            "  inflating: archive/GAMEEMO/(S17)/SAM Ratings/G2.pdf  \n",
            "  inflating: archive/GAMEEMO/(S17)/SAM Ratings/G3.pdf  \n",
            "  inflating: archive/GAMEEMO/(S17)/SAM Ratings/G4.pdf  \n",
            "   creating: archive/GAMEEMO/(S18)/\n",
            "   creating: archive/GAMEEMO/(S18)/Preprocessed EEG Data/\n",
            "  inflating: archive/GAMEEMO/(S18)/Preprocessed EEG Data/S18G1AllChannels.csv  \n",
            "  inflating: archive/GAMEEMO/(S18)/Preprocessed EEG Data/S18G2AllChannels.csv  \n",
            "  inflating: archive/GAMEEMO/(S18)/Preprocessed EEG Data/S18G3AllChannels.csv  \n",
            "  inflating: archive/GAMEEMO/(S18)/Preprocessed EEG Data/S18G4AllChannels.csv  \n",
            "   creating: archive/GAMEEMO/(S18)/Raw EEG Data/\n",
            "   creating: archive/GAMEEMO/(S18)/Raw EEG Data/.csv format/\n",
            "  inflating: archive/GAMEEMO/(S18)/Raw EEG Data/.csv format/S18G1AllRawChannels.csv  \n",
            "  inflating: archive/GAMEEMO/(S18)/Raw EEG Data/.csv format/S18G2AllRawChannels.csv  \n",
            "  inflating: archive/GAMEEMO/(S18)/Raw EEG Data/.csv format/S18G3AllRawChannels.csv  \n",
            "  inflating: archive/GAMEEMO/(S18)/Raw EEG Data/.csv format/S18G4AllRawChannels.csv  \n",
            "   creating: archive/GAMEEMO/(S18)/Raw EEG Data/.mat format/\n",
            "  inflating: archive/GAMEEMO/(S18)/Raw EEG Data/.mat format/S18G1AllRawChannels.mat  \n",
            "  inflating: archive/GAMEEMO/(S18)/Raw EEG Data/.mat format/S18G2AllRawChannels.mat  \n",
            "  inflating: archive/GAMEEMO/(S18)/Raw EEG Data/.mat format/S18G3AllRawChannels.mat  \n",
            "  inflating: archive/GAMEEMO/(S18)/Raw EEG Data/.mat format/S18G4AllRawChannels.mat  \n",
            "   creating: archive/GAMEEMO/(S18)/SAM Ratings/\n",
            "  inflating: archive/GAMEEMO/(S18)/SAM Ratings/G1.pdf  \n",
            "  inflating: archive/GAMEEMO/(S18)/SAM Ratings/G2.pdf  \n",
            "  inflating: archive/GAMEEMO/(S18)/SAM Ratings/G3.pdf  \n",
            "  inflating: archive/GAMEEMO/(S18)/SAM Ratings/G4.pdf  \n",
            "   creating: archive/GAMEEMO/(S19)/\n",
            "   creating: archive/GAMEEMO/(S19)/Preprocessed EEG Data/\n",
            "  inflating: archive/GAMEEMO/(S19)/Preprocessed EEG Data/S19G1AllChannels.csv  \n",
            "  inflating: archive/GAMEEMO/(S19)/Preprocessed EEG Data/S19G2AllChannels.csv  \n",
            "  inflating: archive/GAMEEMO/(S19)/Preprocessed EEG Data/S19G3AllChannels.csv  \n",
            "  inflating: archive/GAMEEMO/(S19)/Preprocessed EEG Data/S19G4AllChannels.csv  \n",
            "   creating: archive/GAMEEMO/(S19)/Raw EEG Data/\n",
            "   creating: archive/GAMEEMO/(S19)/Raw EEG Data/.csv format/\n",
            "  inflating: archive/GAMEEMO/(S19)/Raw EEG Data/.csv format/S19G1AllRawChannels.csv  \n",
            "  inflating: archive/GAMEEMO/(S19)/Raw EEG Data/.csv format/S19G2AllRawChannels.csv  \n",
            "  inflating: archive/GAMEEMO/(S19)/Raw EEG Data/.csv format/S19G3AllRawChannels.csv  \n",
            "  inflating: archive/GAMEEMO/(S19)/Raw EEG Data/.csv format/S19G4AllRawChannels.csv  \n",
            "   creating: archive/GAMEEMO/(S19)/Raw EEG Data/.mat format/\n",
            "  inflating: archive/GAMEEMO/(S19)/Raw EEG Data/.mat format/S19G1AllRawChannels.mat  \n",
            "  inflating: archive/GAMEEMO/(S19)/Raw EEG Data/.mat format/S19G2AllRawChannels.mat  \n",
            "  inflating: archive/GAMEEMO/(S19)/Raw EEG Data/.mat format/S19G3AllRawChannels.mat  \n",
            "  inflating: archive/GAMEEMO/(S19)/Raw EEG Data/.mat format/S19G4AllRawChannels.mat  \n",
            "   creating: archive/GAMEEMO/(S19)/SAM Ratings/\n",
            "  inflating: archive/GAMEEMO/(S19)/SAM Ratings/G1.pdf  \n",
            "  inflating: archive/GAMEEMO/(S19)/SAM Ratings/G2.pdf  \n",
            "  inflating: archive/GAMEEMO/(S19)/SAM Ratings/G3.pdf  \n",
            "  inflating: archive/GAMEEMO/(S19)/SAM Ratings/G4.pdf  \n",
            "   creating: archive/GAMEEMO/(S20)/\n",
            "   creating: archive/GAMEEMO/(S20)/Preprocessed EEG Data/\n",
            "  inflating: archive/GAMEEMO/(S20)/Preprocessed EEG Data/S20G1AllChannels.csv  \n",
            "  inflating: archive/GAMEEMO/(S20)/Preprocessed EEG Data/S20G2AllChannels.csv  \n",
            "  inflating: archive/GAMEEMO/(S20)/Preprocessed EEG Data/S20G3AllChannels.csv  \n",
            "  inflating: archive/GAMEEMO/(S20)/Preprocessed EEG Data/S20G4AllChannels.csv  \n",
            "   creating: archive/GAMEEMO/(S20)/Raw EEG Data/\n",
            "   creating: archive/GAMEEMO/(S20)/Raw EEG Data/.csv format/\n",
            "  inflating: archive/GAMEEMO/(S20)/Raw EEG Data/.csv format/S20G1AllRawChannels.csv  \n",
            "  inflating: archive/GAMEEMO/(S20)/Raw EEG Data/.csv format/S20G2AllRawChannels.csv  \n",
            "  inflating: archive/GAMEEMO/(S20)/Raw EEG Data/.csv format/S20G3AllRawChannels.csv  \n",
            "  inflating: archive/GAMEEMO/(S20)/Raw EEG Data/.csv format/S20G4AllRawChannels.csv  \n",
            "   creating: archive/GAMEEMO/(S20)/Raw EEG Data/.mat format/\n",
            "  inflating: archive/GAMEEMO/(S20)/Raw EEG Data/.mat format/S20G1AllRawChannels.mat  \n",
            "  inflating: archive/GAMEEMO/(S20)/Raw EEG Data/.mat format/S20G2AllRawChannels.mat  \n",
            "  inflating: archive/GAMEEMO/(S20)/Raw EEG Data/.mat format/S20G3AllRawChannels.mat  \n",
            "  inflating: archive/GAMEEMO/(S20)/Raw EEG Data/.mat format/S20G4AllRawChannels.mat  \n",
            "   creating: archive/GAMEEMO/(S20)/SAM Ratings/\n",
            "  inflating: archive/GAMEEMO/(S20)/SAM Ratings/G1.pdf  \n",
            "  inflating: archive/GAMEEMO/(S20)/SAM Ratings/G2.pdf  \n",
            "  inflating: archive/GAMEEMO/(S20)/SAM Ratings/G3.pdf  \n",
            "  inflating: archive/GAMEEMO/(S20)/SAM Ratings/G4.pdf  \n",
            "   creating: archive/GAMEEMO/(S21)/\n",
            "   creating: archive/GAMEEMO/(S21)/Preprocessed EEG Data/\n",
            "  inflating: archive/GAMEEMO/(S21)/Preprocessed EEG Data/S21G1AllChannels.csv  \n",
            "  inflating: archive/GAMEEMO/(S21)/Preprocessed EEG Data/S21G2AllChannels.csv  \n",
            "  inflating: archive/GAMEEMO/(S21)/Preprocessed EEG Data/S21G3AllChannels.csv  \n",
            "  inflating: archive/GAMEEMO/(S21)/Preprocessed EEG Data/S21G4AllChannels.csv  \n",
            "   creating: archive/GAMEEMO/(S21)/Raw EEG Data/\n",
            "   creating: archive/GAMEEMO/(S21)/Raw EEG Data/.csv format/\n",
            "  inflating: archive/GAMEEMO/(S21)/Raw EEG Data/.csv format/S21G1AllRawChannels.csv  \n",
            "  inflating: archive/GAMEEMO/(S21)/Raw EEG Data/.csv format/S21G2AllRawChannels.csv  \n",
            "  inflating: archive/GAMEEMO/(S21)/Raw EEG Data/.csv format/S21G3AllRawChannels.csv  \n",
            "  inflating: archive/GAMEEMO/(S21)/Raw EEG Data/.csv format/S21G4AllRawChannels.csv  \n",
            "   creating: archive/GAMEEMO/(S21)/Raw EEG Data/.mat format/\n",
            "  inflating: archive/GAMEEMO/(S21)/Raw EEG Data/.mat format/S21G1AllRawChannels.mat  \n",
            "  inflating: archive/GAMEEMO/(S21)/Raw EEG Data/.mat format/S21G2AllRawChannels.mat  \n",
            "  inflating: archive/GAMEEMO/(S21)/Raw EEG Data/.mat format/S21G3AllRawChannels.mat  \n",
            "  inflating: archive/GAMEEMO/(S21)/Raw EEG Data/.mat format/S21G4AllRawChannels.mat  \n",
            "   creating: archive/GAMEEMO/(S21)/SAM Ratings/\n",
            "  inflating: archive/GAMEEMO/(S21)/SAM Ratings/G1.pdf  \n",
            "  inflating: archive/GAMEEMO/(S21)/SAM Ratings/G2.pdf  \n",
            "  inflating: archive/GAMEEMO/(S21)/SAM Ratings/G3.pdf  \n",
            "  inflating: archive/GAMEEMO/(S21)/SAM Ratings/G4.pdf  \n",
            "   creating: archive/GAMEEMO/(S22)/\n",
            "   creating: archive/GAMEEMO/(S22)/Preprocessed EEG Data/\n",
            "  inflating: archive/GAMEEMO/(S22)/Preprocessed EEG Data/S22G1AllChannels.csv  \n",
            "  inflating: archive/GAMEEMO/(S22)/Preprocessed EEG Data/S22G2AllChannels.csv  \n",
            "  inflating: archive/GAMEEMO/(S22)/Preprocessed EEG Data/S22G3AllChannels.csv  \n",
            "  inflating: archive/GAMEEMO/(S22)/Preprocessed EEG Data/S22G4AllChannels.csv  \n",
            "   creating: archive/GAMEEMO/(S22)/Raw EEG Data/\n",
            "   creating: archive/GAMEEMO/(S22)/Raw EEG Data/.csv format/\n",
            "  inflating: archive/GAMEEMO/(S22)/Raw EEG Data/.csv format/S22G1AllRawChannels.csv  \n",
            "  inflating: archive/GAMEEMO/(S22)/Raw EEG Data/.csv format/S22G2AllRawChannels.csv  \n",
            "  inflating: archive/GAMEEMO/(S22)/Raw EEG Data/.csv format/S22G3AllRawChannels.csv  \n",
            "  inflating: archive/GAMEEMO/(S22)/Raw EEG Data/.csv format/S22G4AllRawChannels.csv  \n",
            "   creating: archive/GAMEEMO/(S22)/Raw EEG Data/.mat format/\n",
            "  inflating: archive/GAMEEMO/(S22)/Raw EEG Data/.mat format/S22G1AllRawChannels.mat  \n",
            "  inflating: archive/GAMEEMO/(S22)/Raw EEG Data/.mat format/S22G2AllRawChannels.mat  \n",
            "  inflating: archive/GAMEEMO/(S22)/Raw EEG Data/.mat format/S22G3AllRawChannels.mat  \n",
            "  inflating: archive/GAMEEMO/(S22)/Raw EEG Data/.mat format/S22G4AllRawChannels.mat  \n",
            "   creating: archive/GAMEEMO/(S22)/SAM Ratings/\n",
            "  inflating: archive/GAMEEMO/(S22)/SAM Ratings/G1.pdf  \n",
            "  inflating: archive/GAMEEMO/(S22)/SAM Ratings/G2.pdf  \n",
            "  inflating: archive/GAMEEMO/(S22)/SAM Ratings/G3.pdf  \n",
            "  inflating: archive/GAMEEMO/(S22)/SAM Ratings/G4.pdf  \n",
            "   creating: archive/GAMEEMO/(S23)/\n",
            "   creating: archive/GAMEEMO/(S23)/Preprocessed EEG Data/\n",
            "  inflating: archive/GAMEEMO/(S23)/Preprocessed EEG Data/S23G1AllChannels.csv  \n",
            "  inflating: archive/GAMEEMO/(S23)/Preprocessed EEG Data/S23G2AllChannels.csv  \n",
            "  inflating: archive/GAMEEMO/(S23)/Preprocessed EEG Data/S23G3AllChannels.csv  \n",
            "  inflating: archive/GAMEEMO/(S23)/Preprocessed EEG Data/S23G4AllChannels.csv  \n",
            "   creating: archive/GAMEEMO/(S23)/Raw EEG Data/\n",
            "   creating: archive/GAMEEMO/(S23)/Raw EEG Data/.csv format/\n",
            "  inflating: archive/GAMEEMO/(S23)/Raw EEG Data/.csv format/S23G1AllRawChannels.csv  \n",
            "  inflating: archive/GAMEEMO/(S23)/Raw EEG Data/.csv format/S23G2AllRawChannels.csv  \n",
            "  inflating: archive/GAMEEMO/(S23)/Raw EEG Data/.csv format/S23G3AllRawChannels.csv  \n",
            "  inflating: archive/GAMEEMO/(S23)/Raw EEG Data/.csv format/S23G4AllRawChannels.csv  \n",
            "   creating: archive/GAMEEMO/(S23)/Raw EEG Data/.mat format/\n",
            "  inflating: archive/GAMEEMO/(S23)/Raw EEG Data/.mat format/S23G1AllRawChannels.mat  \n",
            "  inflating: archive/GAMEEMO/(S23)/Raw EEG Data/.mat format/S23G2AllRawChannels.mat  \n",
            "  inflating: archive/GAMEEMO/(S23)/Raw EEG Data/.mat format/S23G3AllRawChannels.mat  \n",
            "  inflating: archive/GAMEEMO/(S23)/Raw EEG Data/.mat format/S23G4AllRawChannels.mat  \n",
            "   creating: archive/GAMEEMO/(S23)/SAM Ratings/\n",
            "  inflating: archive/GAMEEMO/(S23)/SAM Ratings/G1.pdf  \n",
            "  inflating: archive/GAMEEMO/(S23)/SAM Ratings/G2.pdf  \n",
            "  inflating: archive/GAMEEMO/(S23)/SAM Ratings/G3.pdf  \n",
            "  inflating: archive/GAMEEMO/(S23)/SAM Ratings/G4.pdf  \n",
            "   creating: archive/GAMEEMO/(S24)/\n",
            "   creating: archive/GAMEEMO/(S24)/Preprocessed EEG Data/\n",
            "  inflating: archive/GAMEEMO/(S24)/Preprocessed EEG Data/S24G1AllChannels.csv  \n",
            "  inflating: archive/GAMEEMO/(S24)/Preprocessed EEG Data/S24G2AllChannels.csv  \n",
            "  inflating: archive/GAMEEMO/(S24)/Preprocessed EEG Data/S24G3AllChannels.csv  \n",
            "  inflating: archive/GAMEEMO/(S24)/Preprocessed EEG Data/S24G4AllChannels.csv  \n",
            "   creating: archive/GAMEEMO/(S24)/Raw EEG Data/\n",
            "   creating: archive/GAMEEMO/(S24)/Raw EEG Data/.csv format/\n",
            "  inflating: archive/GAMEEMO/(S24)/Raw EEG Data/.csv format/S24G1AllRawChannels.csv  \n",
            "  inflating: archive/GAMEEMO/(S24)/Raw EEG Data/.csv format/S24G2AllRawChannels.csv  \n",
            "  inflating: archive/GAMEEMO/(S24)/Raw EEG Data/.csv format/S24G3AllRawChannels.csv  \n",
            "  inflating: archive/GAMEEMO/(S24)/Raw EEG Data/.csv format/S24G4AllRawChannels.csv  \n",
            "   creating: archive/GAMEEMO/(S24)/Raw EEG Data/.mat format/\n",
            "  inflating: archive/GAMEEMO/(S24)/Raw EEG Data/.mat format/S24G1AllRawChannels.mat  \n",
            "  inflating: archive/GAMEEMO/(S24)/Raw EEG Data/.mat format/S24G2AllRawChannels.mat  \n",
            "  inflating: archive/GAMEEMO/(S24)/Raw EEG Data/.mat format/S24G3AllRawChannels.mat  \n",
            "  inflating: archive/GAMEEMO/(S24)/Raw EEG Data/.mat format/S24G4AllRawChannels.mat  \n",
            "   creating: archive/GAMEEMO/(S24)/SAM Ratings/\n",
            "  inflating: archive/GAMEEMO/(S24)/SAM Ratings/G1.pdf  \n",
            "  inflating: archive/GAMEEMO/(S24)/SAM Ratings/G2.pdf  \n",
            "  inflating: archive/GAMEEMO/(S24)/SAM Ratings/G3.pdf  \n",
            "  inflating: archive/GAMEEMO/(S24)/SAM Ratings/G4.pdf  \n",
            "   creating: archive/GAMEEMO/(S25)/\n",
            "   creating: archive/GAMEEMO/(S25)/Preprocessed EEG Data/\n",
            "  inflating: archive/GAMEEMO/(S25)/Preprocessed EEG Data/S25G1AllChannels.csv  \n",
            "  inflating: archive/GAMEEMO/(S25)/Preprocessed EEG Data/S25G2AllChannels.csv  \n",
            "  inflating: archive/GAMEEMO/(S25)/Preprocessed EEG Data/S25G3AllChannels.csv  \n",
            "  inflating: archive/GAMEEMO/(S25)/Preprocessed EEG Data/S25G4AllChannels.csv  \n",
            "   creating: archive/GAMEEMO/(S25)/Raw EEG Data/\n",
            "   creating: archive/GAMEEMO/(S25)/Raw EEG Data/.csv format/\n",
            "  inflating: archive/GAMEEMO/(S25)/Raw EEG Data/.csv format/S25G1AllRawChannels.csv  \n",
            "  inflating: archive/GAMEEMO/(S25)/Raw EEG Data/.csv format/S25G2AllRawChannels.csv  \n",
            "  inflating: archive/GAMEEMO/(S25)/Raw EEG Data/.csv format/S25G3AllRawChannels.csv  \n",
            "  inflating: archive/GAMEEMO/(S25)/Raw EEG Data/.csv format/S25G4AllRawChannels.csv  \n",
            "   creating: archive/GAMEEMO/(S25)/Raw EEG Data/.mat format/\n",
            "  inflating: archive/GAMEEMO/(S25)/Raw EEG Data/.mat format/S25G1AllRawChannels.mat  \n",
            "  inflating: archive/GAMEEMO/(S25)/Raw EEG Data/.mat format/S25G2AllRawChannels.mat  \n",
            "  inflating: archive/GAMEEMO/(S25)/Raw EEG Data/.mat format/S25G3AllRawChannels.mat  \n",
            "  inflating: archive/GAMEEMO/(S25)/Raw EEG Data/.mat format/S25G4AllRawChannels.mat  \n",
            "   creating: archive/GAMEEMO/(S25)/SAM Ratings/\n",
            "  inflating: archive/GAMEEMO/(S25)/SAM Ratings/G1.pdf  \n",
            "  inflating: archive/GAMEEMO/(S25)/SAM Ratings/G2.pdf  \n",
            "  inflating: archive/GAMEEMO/(S25)/SAM Ratings/G3.pdf  \n",
            "  inflating: archive/GAMEEMO/(S25)/SAM Ratings/G4.pdf  \n",
            "   creating: archive/GAMEEMO/(S26)/\n",
            "   creating: archive/GAMEEMO/(S26)/Preprocessed EEG Data/\n",
            "  inflating: archive/GAMEEMO/(S26)/Preprocessed EEG Data/S26G1AllChannels.csv  \n",
            "  inflating: archive/GAMEEMO/(S26)/Preprocessed EEG Data/S26G2AllChannels.csv  \n",
            "  inflating: archive/GAMEEMO/(S26)/Preprocessed EEG Data/S26G3AllChannels.csv  \n",
            "  inflating: archive/GAMEEMO/(S26)/Preprocessed EEG Data/S26G4AllChannels.csv  \n",
            "   creating: archive/GAMEEMO/(S26)/Raw EEG Data/\n",
            "   creating: archive/GAMEEMO/(S26)/Raw EEG Data/.csv format/\n",
            "  inflating: archive/GAMEEMO/(S26)/Raw EEG Data/.csv format/S26G1AllChannels.csv  \n",
            "  inflating: archive/GAMEEMO/(S26)/Raw EEG Data/.csv format/S26G2AllChannels.csv  \n",
            "  inflating: archive/GAMEEMO/(S26)/Raw EEG Data/.csv format/S26G3AllChannels.csv  \n",
            "  inflating: archive/GAMEEMO/(S26)/Raw EEG Data/.csv format/S26G4AllChannels.csv  \n",
            "   creating: archive/GAMEEMO/(S26)/Raw EEG Data/.mat format/\n",
            "  inflating: archive/GAMEEMO/(S26)/Raw EEG Data/.mat format/S26G1AllRawChannels.mat  \n",
            "  inflating: archive/GAMEEMO/(S26)/Raw EEG Data/.mat format/S26G2AllRawChannels.mat  \n",
            "  inflating: archive/GAMEEMO/(S26)/Raw EEG Data/.mat format/S26G3AllRawChannels.mat  \n",
            "  inflating: archive/GAMEEMO/(S26)/Raw EEG Data/.mat format/S26G4AllRawChannels.mat  \n",
            "   creating: archive/GAMEEMO/(S26)/SAM Ratings/\n",
            "  inflating: archive/GAMEEMO/(S26)/SAM Ratings/G1.pdf  \n",
            "  inflating: archive/GAMEEMO/(S26)/SAM Ratings/G2.pdf  \n",
            "  inflating: archive/GAMEEMO/(S26)/SAM Ratings/G3.pdf  \n",
            "  inflating: archive/GAMEEMO/(S26)/SAM Ratings/G4.pdf  \n",
            "   creating: archive/GAMEEMO/(S27)/\n",
            "   creating: archive/GAMEEMO/(S27)/Preprocessed EEG Data/\n",
            "  inflating: archive/GAMEEMO/(S27)/Preprocessed EEG Data/S27G1AllChannels.csv  \n",
            "  inflating: archive/GAMEEMO/(S27)/Preprocessed EEG Data/S27G2AllChannels.csv  \n",
            "  inflating: archive/GAMEEMO/(S27)/Preprocessed EEG Data/S27G3AllChannels.csv  \n",
            "  inflating: archive/GAMEEMO/(S27)/Preprocessed EEG Data/S27G4AllChannels.csv  \n",
            "   creating: archive/GAMEEMO/(S27)/Raw EEG Data/\n",
            "   creating: archive/GAMEEMO/(S27)/Raw EEG Data/.csv format/\n",
            "  inflating: archive/GAMEEMO/(S27)/Raw EEG Data/.csv format/S27G1AllRawChannels.csv  \n",
            "  inflating: archive/GAMEEMO/(S27)/Raw EEG Data/.csv format/S27G2AllRawChannels.csv  \n",
            "  inflating: archive/GAMEEMO/(S27)/Raw EEG Data/.csv format/S27G3AllRawChannels.csv  \n",
            "  inflating: archive/GAMEEMO/(S27)/Raw EEG Data/.csv format/S27G4AllRawChannels.csv  \n",
            "   creating: archive/GAMEEMO/(S27)/Raw EEG Data/.mat format/\n",
            "  inflating: archive/GAMEEMO/(S27)/Raw EEG Data/.mat format/S27G1AllRawChannels.mat  \n",
            "  inflating: archive/GAMEEMO/(S27)/Raw EEG Data/.mat format/S27G2AllRawChannels.mat  \n",
            "  inflating: archive/GAMEEMO/(S27)/Raw EEG Data/.mat format/S27G3AllRawChannels.mat  \n",
            "  inflating: archive/GAMEEMO/(S27)/Raw EEG Data/.mat format/S27G4AllRawChannels.mat  \n",
            "   creating: archive/GAMEEMO/(S27)/SAM Ratings/\n",
            "  inflating: archive/GAMEEMO/(S27)/SAM Ratings/G1.pdf  \n",
            "  inflating: archive/GAMEEMO/(S27)/SAM Ratings/G2.pdf  \n",
            "  inflating: archive/GAMEEMO/(S27)/SAM Ratings/G3.pdf  \n",
            "  inflating: archive/GAMEEMO/(S27)/SAM Ratings/G4.pdf  \n",
            "   creating: archive/GAMEEMO/(S28)/\n",
            "   creating: archive/GAMEEMO/(S28)/Preprocessed EEG Data/\n",
            "  inflating: archive/GAMEEMO/(S28)/Preprocessed EEG Data/S28G1AllChannels.csv  \n",
            "  inflating: archive/GAMEEMO/(S28)/Preprocessed EEG Data/S28G2AllChannels.csv  \n",
            "  inflating: archive/GAMEEMO/(S28)/Preprocessed EEG Data/S28G3AllChannels.csv  \n",
            "  inflating: archive/GAMEEMO/(S28)/Preprocessed EEG Data/S28G4AllChannels.csv  \n",
            "   creating: archive/GAMEEMO/(S28)/Raw EEG Data/\n",
            "   creating: archive/GAMEEMO/(S28)/Raw EEG Data/.csv format/\n",
            "  inflating: archive/GAMEEMO/(S28)/Raw EEG Data/.csv format/S28G1AllRawChannels.csv  \n",
            "  inflating: archive/GAMEEMO/(S28)/Raw EEG Data/.csv format/S28G2AllRawChannels.csv  \n",
            "  inflating: archive/GAMEEMO/(S28)/Raw EEG Data/.csv format/S28G3AllRawChannels.csv  \n",
            "  inflating: archive/GAMEEMO/(S28)/Raw EEG Data/.csv format/S28G4AllRawChannels.csv  \n",
            "   creating: archive/GAMEEMO/(S28)/Raw EEG Data/.mat format/\n",
            "  inflating: archive/GAMEEMO/(S28)/Raw EEG Data/.mat format/S28G1AllRawChannels.mat  \n",
            "  inflating: archive/GAMEEMO/(S28)/Raw EEG Data/.mat format/S28G2AllRawChannels.mat  \n",
            "  inflating: archive/GAMEEMO/(S28)/Raw EEG Data/.mat format/S28G3AllRawChannels.mat  \n",
            "  inflating: archive/GAMEEMO/(S28)/Raw EEG Data/.mat format/S28G4AllRawChannels.mat  \n",
            "   creating: archive/GAMEEMO/(S28)/SAM Ratings/\n",
            "  inflating: archive/GAMEEMO/(S28)/SAM Ratings/G1.pdf  \n",
            "  inflating: archive/GAMEEMO/(S28)/SAM Ratings/G2.pdf  \n",
            "  inflating: archive/GAMEEMO/(S28)/SAM Ratings/G3.pdf  \n",
            "  inflating: archive/GAMEEMO/(S28)/SAM Ratings/G4.pdf  \n",
            "   creating: archive/GAMEEMO/Gameplays/\n",
            "   creating: archive/GAMEEMO/Gameplays/G1 (Train Sim World)/\n",
            "  inflating: archive/GAMEEMO/Gameplays/G1 (Train Sim World)/Train Sim World.mp4  \n",
            "   creating: archive/GAMEEMO/Gameplays/G2 (Unravel)/\n",
            "  inflating: archive/GAMEEMO/Gameplays/G2 (Unravel)/Unravel.mp4  \n",
            "   creating: archive/GAMEEMO/Gameplays/G3 (Slender - The Arrival)/\n",
            "  inflating: archive/GAMEEMO/Gameplays/G3 (Slender - The Arrival)/Slender The Arrival.mp4  \n",
            "   creating: archive/GAMEEMO/Gameplays/G4 (Goat Simulator)/\n",
            "  inflating: archive/GAMEEMO/Gameplays/G4 (Goat Simulator)/Goat Simulator.mp4  \n"
          ],
          "name": "stdout"
        }
      ]
    },
    {
      "cell_type": "code",
      "metadata": {
        "id": "1GA6N8sCCs-P"
      },
      "source": [
        "directories = glob.glob('archive/GAMEEMO/*')\n",
        "dir_len = len(directories)\n",
        "for i in range(dir_len):\n",
        "  directories[i] += '/Preprocessed EEG Data/*'\n",
        "  directories[i] = glob.glob(directories[i])"
      ],
      "execution_count": null,
      "outputs": []
    },
    {
      "cell_type": "code",
      "metadata": {
        "id": "v4ZH-X8TQMBM"
      },
      "source": [
        "raw_eeg= []\n",
        "labels = []\n",
        "for p in directories:\n",
        "  for r in p:\n",
        "    l = r.split('/')[-1][4]\n",
        "    Df = pd.read_csv(r)\n",
        "    raw_eeg.append(Df.iloc[0:,0:14].values.tolist())\n",
        "    labels.append(int(l)-1)"
      ],
      "execution_count": null,
      "outputs": []
    },
    {
      "cell_type": "code",
      "metadata": {
        "id": "L04sNK9GRUT1"
      },
      "source": [
        "n = len(raw_eeg)\n",
        "# train_range = int(n*0.8)\n",
        "# train_X = []\n",
        "# train_Y = []\n",
        "# for i in range(train_range):\n",
        "#   for row in raw_eeg[i]:\n",
        "#     train_X.append(row)\n",
        "#     train_Y.append(labels[i])\n",
        "# train_Y_onehot = to_categorical(train_Y)\n",
        "train_X = np.array(raw_eeg[0:int(n*0.8)])\n",
        "train_Y = np.array(to_categorical(labels[0:int(n*0.8)],num_classes=4))\n",
        "test_X = np.array(raw_eeg[int(n*0.8):])\n",
        "test_Y = np.array(labels[int(n*0.8):])\n",
        "# for i in range(train_range,participants):\n",
        "#   for row in raw_eeg[i]:\n",
        "#     test_X.append(row)\n",
        "#     test_Y.append(labels[i])\n",
        "# test_Y_onehot = to_categorical(test_Y)"
      ],
      "execution_count": null,
      "outputs": []
    },
    {
      "cell_type": "code",
      "metadata": {
        "colab": {
          "base_uri": "https://localhost:8080/"
        },
        "id": "U546k6-nGqFv",
        "outputId": "2a3f51b6-6e6d-4cd3-f561-e66752fecdf5"
      },
      "source": [
        "inputs = Input(shape=train_X.shape[1:])\n",
        "x = Flatten()(inputs)\n",
        "x = Dense(units=50)(x)\n",
        "x = LeakyReLU()(x)\n",
        "x = Dropout(rate=0.2)(x)\n",
        "x = Dense(units=50)(x)\n",
        "x = LeakyReLU()(x)\n",
        "# x = Dropout(rate=0.2)(x)\n",
        "# x = Dense(units=200)(x)\n",
        "# x = LeakyReLU()(x)\n",
        "# x = Dropout(rate=0.2)(x)\n",
        "# x = Dense(units=200)(x)\n",
        "# x = LeakyReLU()(x)\n",
        "# x = Dropout(rate=0.2)(x)\n",
        "# x = Dense(units=200)(x)\n",
        "# x = LeakyReLU()(x)\n",
        "# x = Dropout(rate=0.2)(x)\n",
        "# x = Dense(units=128)(x)\n",
        "# x = LeakyReLU()(x)\n",
        "# x = Dropout(rate=0.2)(x)\n",
        "# x = Dense(units=32)(x)\n",
        "# x = LeakyReLU()(x)\n",
        "# x = Dropout(rate=0.2)(x)\n",
        "outputs = Dense(units=4,activation='softmax')(x)\n",
        "model = Model(inputs=inputs, outputs=outputs)\n",
        "#print model summary here\n",
        "model.summary()"
      ],
      "execution_count": null,
      "outputs": [
        {
          "output_type": "stream",
          "text": [
            "Model: \"model\"\n",
            "_________________________________________________________________\n",
            "Layer (type)                 Output Shape              Param #   \n",
            "=================================================================\n",
            "input_1 (InputLayer)         [(None, 38252, 14)]       0         \n",
            "_________________________________________________________________\n",
            "flatten (Flatten)            (None, 535528)            0         \n",
            "_________________________________________________________________\n",
            "dense (Dense)                (None, 50)                26776450  \n",
            "_________________________________________________________________\n",
            "leaky_re_lu (LeakyReLU)      (None, 50)                0         \n",
            "_________________________________________________________________\n",
            "dropout (Dropout)            (None, 50)                0         \n",
            "_________________________________________________________________\n",
            "dense_1 (Dense)              (None, 50)                2550      \n",
            "_________________________________________________________________\n",
            "leaky_re_lu_1 (LeakyReLU)    (None, 50)                0         \n",
            "_________________________________________________________________\n",
            "dense_2 (Dense)              (None, 4)                 204       \n",
            "=================================================================\n",
            "Total params: 26,779,204\n",
            "Trainable params: 26,779,204\n",
            "Non-trainable params: 0\n",
            "_________________________________________________________________\n"
          ],
          "name": "stdout"
        }
      ]
    },
    {
      "cell_type": "code",
      "metadata": {
        "colab": {
          "base_uri": "https://localhost:8080/",
          "height": 865
        },
        "id": "h8POYF22M5Qy",
        "outputId": "e9bf42e3-7af3-441f-a45a-144e9b2b0430"
      },
      "source": [
        "plot_model(model, \"DL.png\", show_shapes=True)"
      ],
      "execution_count": null,
      "outputs": [
        {
          "output_type": "execute_result",
          "data": {
            "image/png": "[encoded data removed]",
            "text/plain": [
              "<IPython.core.display.Image object>"
            ]
          },
          "metadata": {
            "tags": []
          },
          "execution_count": 8
        }
      ]
    },
    {
      "cell_type": "code",
      "metadata": {
        "id": "TMseV2RQhC3K"
      },
      "source": [
        "batch_size = 10\n",
        "lr = 10e-6\n",
        "epochs=25"
      ],
      "execution_count": null,
      "outputs": []
    },
    {
      "cell_type": "code",
      "metadata": {
        "id": "DVuagww2G3yZ"
      },
      "source": [
        "model.compile(optimizer=Adam(learning_rate=lr), metrics=['accuracy'], loss='categorical_crossentropy')"
      ],
      "execution_count": null,
      "outputs": []
    },
    {
      "cell_type": "code",
      "metadata": {
        "colab": {
          "base_uri": "https://localhost:8080/"
        },
        "id": "ONLHtngUG4vH",
        "outputId": "fb44e4f6-d68c-4cc1-baa5-450e8a5b2ace"
      },
      "source": [
        "history = model.fit(x=train_X,y=train_Y,epochs=epochs,\n",
        "                 batch_size=batch_size,validation_split=0.1)"
      ],
      "execution_count": null,
      "outputs": [
        {
          "output_type": "stream",
          "text": [
            "Epoch 1/25\n",
            "8/8 [==============================] - 3s 81ms/step - loss: 18.3318 - accuracy: 0.3356 - val_loss: 21.7324 - val_accuracy: 0.2222\n",
            "Epoch 2/25\n",
            "8/8 [==============================] - 0s 23ms/step - loss: 2.8583 - accuracy: 0.7918 - val_loss: 12.7068 - val_accuracy: 0.5556\n",
            "Epoch 3/25\n",
            "8/8 [==============================] - 0s 24ms/step - loss: 0.4052 - accuracy: 0.9711 - val_loss: 12.9093 - val_accuracy: 0.5556\n",
            "Epoch 4/25\n",
            "8/8 [==============================] - 0s 22ms/step - loss: 0.0965 - accuracy: 0.9866 - val_loss: 12.7900 - val_accuracy: 0.5556\n",
            "Epoch 5/25\n",
            "8/8 [==============================] - 0s 20ms/step - loss: 0.1397 - accuracy: 0.9916 - val_loss: 12.6533 - val_accuracy: 0.5556\n",
            "Epoch 6/25\n",
            "8/8 [==============================] - 0s 21ms/step - loss: 1.0546e-05 - accuracy: 1.0000 - val_loss: 12.5459 - val_accuracy: 0.5556\n",
            "Epoch 7/25\n",
            "8/8 [==============================] - 0s 22ms/step - loss: 0.3287 - accuracy: 0.9684 - val_loss: 12.4425 - val_accuracy: 0.5556\n",
            "Epoch 8/25\n",
            "8/8 [==============================] - 0s 20ms/step - loss: 2.3988e-07 - accuracy: 1.0000 - val_loss: 12.3948 - val_accuracy: 0.5556\n",
            "Epoch 9/25\n",
            "8/8 [==============================] - 0s 23ms/step - loss: 7.6938e-06 - accuracy: 1.0000 - val_loss: 12.3729 - val_accuracy: 0.5556\n",
            "Epoch 10/25\n",
            "8/8 [==============================] - 0s 23ms/step - loss: 0.4367 - accuracy: 0.9330 - val_loss: 12.4480 - val_accuracy: 0.5556\n",
            "Epoch 11/25\n",
            "8/8 [==============================] - 0s 21ms/step - loss: 0.0626 - accuracy: 0.9916 - val_loss: 12.4097 - val_accuracy: 0.5556\n",
            "Epoch 12/25\n",
            "8/8 [==============================] - 0s 22ms/step - loss: 0.0999 - accuracy: 0.9776 - val_loss: 12.2200 - val_accuracy: 0.5556\n",
            "Epoch 13/25\n",
            "8/8 [==============================] - 0s 19ms/step - loss: 0.4728 - accuracy: 0.9684 - val_loss: 12.0991 - val_accuracy: 0.5556\n",
            "Epoch 14/25\n",
            "8/8 [==============================] - 0s 22ms/step - loss: 0.0166 - accuracy: 0.9916 - val_loss: 12.0501 - val_accuracy: 0.5556\n",
            "Epoch 15/25\n",
            "8/8 [==============================] - 0s 23ms/step - loss: 0.0509 - accuracy: 0.9795 - val_loss: 11.9664 - val_accuracy: 0.5556\n",
            "Epoch 16/25\n",
            "8/8 [==============================] - 0s 22ms/step - loss: 0.0000e+00 - accuracy: 1.0000 - val_loss: 11.9230 - val_accuracy: 0.5556\n",
            "Epoch 17/25\n",
            "8/8 [==============================] - 0s 21ms/step - loss: 1.4822e-09 - accuracy: 1.0000 - val_loss: 11.9036 - val_accuracy: 0.5556\n",
            "Epoch 18/25\n",
            "8/8 [==============================] - 0s 22ms/step - loss: 1.5920e-06 - accuracy: 1.0000 - val_loss: 11.8950 - val_accuracy: 0.5556\n",
            "Epoch 19/25\n",
            "8/8 [==============================] - 0s 23ms/step - loss: 0.0000e+00 - accuracy: 1.0000 - val_loss: 11.8912 - val_accuracy: 0.5556\n",
            "Epoch 20/25\n",
            "8/8 [==============================] - 0s 22ms/step - loss: 1.1369e-08 - accuracy: 1.0000 - val_loss: 11.8895 - val_accuracy: 0.5556\n",
            "Epoch 21/25\n",
            "8/8 [==============================] - 0s 22ms/step - loss: 2.5406e-08 - accuracy: 1.0000 - val_loss: 11.8888 - val_accuracy: 0.5556\n",
            "Epoch 22/25\n",
            "8/8 [==============================] - 0s 20ms/step - loss: 7.3668e-06 - accuracy: 1.0000 - val_loss: 11.8885 - val_accuracy: 0.5556\n",
            "Epoch 23/25\n",
            "8/8 [==============================] - 0s 22ms/step - loss: 9.1064e-05 - accuracy: 1.0000 - val_loss: 11.8893 - val_accuracy: 0.5556\n",
            "Epoch 24/25\n",
            "8/8 [==============================] - 0s 20ms/step - loss: 1.0175e-05 - accuracy: 1.0000 - val_loss: 11.8901 - val_accuracy: 0.5556\n",
            "Epoch 25/25\n",
            "8/8 [==============================] - 0s 21ms/step - loss: 1.3245e-09 - accuracy: 1.0000 - val_loss: 11.8904 - val_accuracy: 0.5556\n"
          ],
          "name": "stdout"
        }
      ]
    },
    {
      "cell_type": "code",
      "metadata": {
        "colab": {
          "base_uri": "https://localhost:8080/",
          "height": 573
        },
        "id": "_yR4aoFSW8da",
        "outputId": "9989ce3c-c7cf-4cb1-ea71-5bb10ec93886"
      },
      "source": [
        "plt.plot([i for i in range(epochs)], history.history['loss'], 'r-', label=\"Training Loss\")\n",
        "plt.plot([i for i in range(epochs)], history.history['val_loss'], 'b-', label=\"Validation Loss\")\n",
        "plt.xlabel(\"Epoch\")\n",
        "plt.ylabel(\"Cross-Entropy Loss\")\n",
        "plt.title(\"Loss Curve\")\n",
        "plt.legend(loc=\"upper right\")\n",
        "plt.show()\n",
        "\n",
        "plt.plot([i for i in range(epochs)], history.history['accuracy'], 'r-', label=\"Training accuracy\")\n",
        "plt.plot([i for i in range(epochs)], history.history['val_accuracy'], 'b-', label=\"Validation accuracy\")\n",
        "plt.xlabel(\"Epoch\")\n",
        "plt.ylabel(\"Cross-Entropy Loss\")\n",
        "plt.title(\"Accuracy Curve\")\n",
        "plt.legend(loc=\"upper right\")\n",
        "plt.show()"
      ],
      "execution_count": null,
      "outputs": [
        {
          "output_type": "display_data",
          "data": {
            "image/png": "[encoded data removed]",
            "text/plain": [
              "<Figure size 432x288 with 1 Axes>"
            ]
          },
          "metadata": {
            "tags": [],
            "needs_background": "light"
          }
        },
        {
          "output_type": "display_data",
          "data": {
            "image/png": "[encoded data removed]",
            "text/plain": [
              "<Figure size 432x288 with 1 Axes>"
            ]
          },
          "metadata": {
            "tags": [],
            "needs_background": "light"
          }
        }
      ]
    },
    {
      "cell_type": "code",
      "metadata": {
        "colab": {
          "base_uri": "https://localhost:8080/"
        },
        "id": "aON1Sk4kYnI1",
        "outputId": "404194a7-0704-4d17-b35b-ee1c54738384"
      },
      "source": [
        "pred_labels = model.predict(test_X).argmax(axis=1)\n",
        "correct = 0\n",
        "total = len(pred_labels)\n",
        "for i in range(total):\n",
        "  if pred_labels[i] == test_Y[i]:\n",
        "    correct += 1\n",
        "accuracy = correct/total\n",
        "print(\"Test Accuracy:\",accuracy*100)"
      ],
      "execution_count": null,
      "outputs": [
        {
          "output_type": "stream",
          "text": [
            "Test Accuracy: 91.30434782608695\n"
          ],
          "name": "stdout"
        }
      ]
    },
    {
      "cell_type": "code",
      "metadata": {
        "id": "VZlpXmYwbZ6I",
        "colab": {
          "base_uri": "https://localhost:8080/"
        },
        "outputId": "d93cc1a6-54d7-40ac-b693-7260becdf05f"
      },
      "source": [
        "cm = confusion_matrix(test_Y, pred_labels)\n",
        "# dictionary = {0:'Bored',1:'Calm',2:'Horrified',3:'Happy'}\n",
        "# dictionary[test_Y]\n",
        "['Bored','Calm','Horrified','Happy']"
      ],
      "execution_count": null,
      "outputs": [
        {
          "output_type": "execute_result",
          "data": {
            "text/plain": [
              "['Bored', 'Calm', 'Horrified', 'Happy']"
            ]
          },
          "metadata": {
            "tags": []
          },
          "execution_count": 14
        }
      ]
    },
    {
      "cell_type": "code",
      "metadata": {
        "id": "u5nLHUUOgxTJ"
      },
      "source": [
        "def plot_confusion_matrix(conf_mat):\n",
        "  classes = list(labels)\n",
        "  df_cm = pd.DataFrame(conf_mat,columns=['Bored','Calm','Horrified','Happy'],index=['Bored','Calm','Horrified','Happy'])\n",
        "  plt.figure(figsize=(10,7))\n",
        "  sns.set(font_scale=1.4)\n",
        "  sns.heatmap(df_cm, annot=True,annot_kws={\"size\": 16})\n",
        "  plt.show()"
      ],
      "execution_count": null,
      "outputs": []
    },
    {
      "cell_type": "code",
      "metadata": {
        "colab": {
          "base_uri": "https://localhost:8080/",
          "height": 442
        },
        "id": "8E_qtWgDg0nV",
        "outputId": "816f65b3-9b9a-4c22-c8cb-4696287ac5d8"
      },
      "source": [
        "plot_confusion_matrix(cm)"
      ],
      "execution_count": null,
      "outputs": [
        {
          "output_type": "display_data",
          "data": {
            "image/png": "[encoded data removed]",
            "text/plain": [
              "<Figure size 720x504 with 2 Axes>"
            ]
          },
          "metadata": {
            "tags": [],
            "needs_background": "light"
          }
        }
      ]
    },
    {
      "cell_type": "code",
      "metadata": {
        "colab": {
          "base_uri": "https://localhost:8080/"
        },
        "id": "f_xjwWZpYki9",
        "outputId": "dbaf6ad8-3973-4a90-f303-6e93bdbbd620"
      },
      "source": [
        "print(classification_report(test_Y, pred_labels,target_names=['Bored','Calm','Horrified','Happy']))"
      ],
      "execution_count": null,
      "outputs": [
        {
          "output_type": "stream",
          "text": [
            "              precision    recall  f1-score   support\n",
            "\n",
            "       Bored       1.00      0.83      0.91         6\n",
            "        Calm       0.75      1.00      0.86         6\n",
            "   Horrified       1.00      0.83      0.91         6\n",
            "       Happy       1.00      1.00      1.00         5\n",
            "\n",
            "    accuracy                           0.91        23\n",
            "   macro avg       0.94      0.92      0.92        23\n",
            "weighted avg       0.93      0.91      0.92        23\n",
            "\n"
          ],
          "name": "stdout"
        }
      ]
    },
    {
      "cell_type": "markdown",
      "metadata": {
        "id": "TOVMI8IvsbSV"
      },
      "source": [
        "# CNN"
      ]
    },
    {
      "cell_type": "code",
      "metadata": {
        "id": "-QrDjfK5saZb"
      },
      "source": [
        "# inputs = Input(shape=train_X.shape[1:])\n",
        "# x = Flatten()(inputs)\n",
        "# x = Dense(units=50)(x)\n",
        "# x = LeakyReLU()(x)\n",
        "# x = Dropout(rate=0.2)(x)\n",
        "# x = Dense(units=50)(x)\n",
        "# x = LeakyReLU()(x)\n",
        "X_shape = train_X.shape\n",
        "X_train_conv = train_X.reshape(-1,X_shape[1],X_shape[2],1)\n",
        "X_test_conv = test_X.reshape(-1,X_shape[1],X_shape[2],1)"
      ],
      "execution_count": null,
      "outputs": []
    },
    {
      "cell_type": "code",
      "metadata": {
        "colab": {
          "base_uri": "https://localhost:8080/"
        },
        "id": "rGhf_m_yvQOq",
        "outputId": "597499cf-ac02-4496-d44b-6fbd1c2c0cdf"
      },
      "source": [
        "inputs = Input(shape=X_test_conv.shape[1:])\n",
        "x = Conv2D(filters=10,kernel_size=(5,5),strides=(2,2),padding='same')(inputs)\n",
        "x = BatchNormalization()(x)\n",
        "x = LeakyReLU()(x)\n",
        "x = Dropout(rate=0.2)(x)\n",
        "x = Conv2D(filters=5,kernel_size=(3,3),strides=(2,2),padding='same')(x)\n",
        "x = BatchNormalization()(x)\n",
        "x = LeakyReLU()(x)\n",
        "x = Dropout(rate=0.2)(x)\n",
        "x = Flatten()(x)\n",
        "x = Dense(units=5)(x)\n",
        "x = LeakyReLU()(x)\n",
        "x = Dropout(rate=0.2)(x)\n",
        "outputs = Dense(units=4,activation='softmax')(x)\n",
        "model_conv = Model(inputs=inputs, outputs=outputs,name='CNN')\n",
        "model_conv.summary()\n",
        "# plot_model(model_conv,\"model.png\")"
      ],
      "execution_count": null,
      "outputs": [
        {
          "output_type": "stream",
          "text": [
            "Model: \"CNN\"\n",
            "_________________________________________________________________\n",
            "Layer (type)                 Output Shape              Param #   \n",
            "=================================================================\n",
            "input_2 (InputLayer)         [(None, 38252, 14, 1)]    0         \n",
            "_________________________________________________________________\n",
            "conv2d (Conv2D)              (None, 19126, 7, 10)      260       \n",
            "_________________________________________________________________\n",
            "batch_normalization (BatchNo (None, 19126, 7, 10)      40        \n",
            "_________________________________________________________________\n",
            "leaky_re_lu_2 (LeakyReLU)    (None, 19126, 7, 10)      0         \n",
            "_________________________________________________________________\n",
            "dropout_1 (Dropout)          (None, 19126, 7, 10)      0         \n",
            "_________________________________________________________________\n",
            "conv2d_1 (Conv2D)            (None, 9563, 4, 5)        455       \n",
            "_________________________________________________________________\n",
            "batch_normalization_1 (Batch (None, 9563, 4, 5)        20        \n",
            "_________________________________________________________________\n",
            "leaky_re_lu_3 (LeakyReLU)    (None, 9563, 4, 5)        0         \n",
            "_________________________________________________________________\n",
            "dropout_2 (Dropout)          (None, 9563, 4, 5)        0         \n",
            "_________________________________________________________________\n",
            "flatten_1 (Flatten)          (None, 191260)            0         \n",
            "_________________________________________________________________\n",
            "dense_3 (Dense)              (None, 5)                 956305    \n",
            "_________________________________________________________________\n",
            "leaky_re_lu_4 (LeakyReLU)    (None, 5)                 0         \n",
            "_________________________________________________________________\n",
            "dropout_3 (Dropout)          (None, 5)                 0         \n",
            "_________________________________________________________________\n",
            "dense_4 (Dense)              (None, 4)                 24        \n",
            "=================================================================\n",
            "Total params: 957,104\n",
            "Trainable params: 957,074\n",
            "Non-trainable params: 30\n",
            "_________________________________________________________________\n"
          ],
          "name": "stdout"
        }
      ]
    },
    {
      "cell_type": "code",
      "metadata": {
        "id": "AgSnF_9exzJ2"
      },
      "source": [
        "batch_size = 10\n",
        "lr = 10e-6\n",
        "epochs=40\n",
        "model_conv.compile(optimizer=Adam(learning_rate=lr), metrics=['accuracy'], loss='categorical_crossentropy')"
      ],
      "execution_count": null,
      "outputs": []
    },
    {
      "cell_type": "code",
      "metadata": {
        "colab": {
          "base_uri": "https://localhost:8080/"
        },
        "id": "I4hWwdGwm5CT",
        "outputId": "71a74f74-02ba-447b-a5ac-8b83442f902e"
      },
      "source": [
        "lr = 1e-2\n",
        "lr"
      ],
      "execution_count": null,
      "outputs": [
        {
          "output_type": "execute_result",
          "data": {
            "text/plain": [
              "0.01"
            ]
          },
          "metadata": {
            "tags": []
          },
          "execution_count": 3
        }
      ]
    },
    {
      "cell_type": "code",
      "metadata": {
        "colab": {
          "base_uri": "https://localhost:8080/"
        },
        "id": "VJqA0JSyx3FV",
        "outputId": "7e550e09-cd6b-4105-ae56-4ac64b6d3fca"
      },
      "source": [
        "history = model_conv.fit(x=X_train_conv,y=train_Y,epochs=epochs,\n",
        "                 batch_size=batch_size,validation_split=0.1)"
      ],
      "execution_count": null,
      "outputs": [
        {
          "output_type": "stream",
          "text": [
            "Epoch 1/40\n",
            "8/8 [==============================] - 29s 62ms/step - loss: 1.6553 - accuracy: 0.3314 - val_loss: 1.6923 - val_accuracy: 0.2222\n",
            "Epoch 2/40\n",
            "8/8 [==============================] - 0s 32ms/step - loss: 1.3454 - accuracy: 0.3325 - val_loss: 1.1604 - val_accuracy: 0.4444\n",
            "Epoch 3/40\n",
            "8/8 [==============================] - 0s 33ms/step - loss: 1.1704 - accuracy: 0.4755 - val_loss: 1.0047 - val_accuracy: 0.4444\n",
            "Epoch 4/40\n",
            "8/8 [==============================] - 0s 32ms/step - loss: 0.9750 - accuracy: 0.5947 - val_loss: 1.0652 - val_accuracy: 0.4444\n",
            "Epoch 5/40\n",
            "8/8 [==============================] - 0s 33ms/step - loss: 0.8298 - accuracy: 0.7166 - val_loss: 1.0168 - val_accuracy: 0.4444\n",
            "Epoch 6/40\n",
            "8/8 [==============================] - 0s 32ms/step - loss: 0.7216 - accuracy: 0.7897 - val_loss: 0.9331 - val_accuracy: 0.5556\n",
            "Epoch 7/40\n",
            "8/8 [==============================] - 0s 34ms/step - loss: 0.6681 - accuracy: 0.8560 - val_loss: 0.9019 - val_accuracy: 0.5556\n",
            "Epoch 8/40\n",
            "8/8 [==============================] - 0s 34ms/step - loss: 0.5919 - accuracy: 0.8720 - val_loss: 0.8814 - val_accuracy: 0.5556\n",
            "Epoch 9/40\n",
            "8/8 [==============================] - 0s 33ms/step - loss: 0.5262 - accuracy: 0.8569 - val_loss: 0.8498 - val_accuracy: 0.5556\n",
            "Epoch 10/40\n",
            "8/8 [==============================] - 0s 34ms/step - loss: 0.5419 - accuracy: 0.8700 - val_loss: 0.8746 - val_accuracy: 0.5556\n",
            "Epoch 11/40\n",
            "8/8 [==============================] - 0s 34ms/step - loss: 0.5274 - accuracy: 0.8663 - val_loss: 0.8940 - val_accuracy: 0.5556\n",
            "Epoch 12/40\n",
            "8/8 [==============================] - 0s 33ms/step - loss: 0.4812 - accuracy: 0.8879 - val_loss: 0.9225 - val_accuracy: 0.4444\n",
            "Epoch 13/40\n",
            "8/8 [==============================] - 0s 33ms/step - loss: 0.4431 - accuracy: 0.9367 - val_loss: 0.9219 - val_accuracy: 0.3333\n",
            "Epoch 14/40\n",
            "8/8 [==============================] - 0s 35ms/step - loss: 0.4405 - accuracy: 0.8852 - val_loss: 0.9217 - val_accuracy: 0.3333\n",
            "Epoch 15/40\n",
            "8/8 [==============================] - 0s 32ms/step - loss: 0.3891 - accuracy: 0.9572 - val_loss: 0.9230 - val_accuracy: 0.3333\n",
            "Epoch 16/40\n",
            "8/8 [==============================] - 0s 35ms/step - loss: 0.4246 - accuracy: 0.8943 - val_loss: 0.9172 - val_accuracy: 0.3333\n",
            "Epoch 17/40\n",
            "8/8 [==============================] - 0s 33ms/step - loss: 0.5041 - accuracy: 0.8126 - val_loss: 0.9116 - val_accuracy: 0.3333\n",
            "Epoch 18/40\n",
            "8/8 [==============================] - 0s 34ms/step - loss: 0.4503 - accuracy: 0.8810 - val_loss: 0.9147 - val_accuracy: 0.3333\n",
            "Epoch 19/40\n",
            "8/8 [==============================] - 0s 33ms/step - loss: 0.3569 - accuracy: 0.9379 - val_loss: 0.9227 - val_accuracy: 0.3333\n",
            "Epoch 20/40\n",
            "8/8 [==============================] - 0s 35ms/step - loss: 0.3586 - accuracy: 0.9313 - val_loss: 0.9387 - val_accuracy: 0.3333\n",
            "Epoch 21/40\n",
            "8/8 [==============================] - 0s 32ms/step - loss: 0.3347 - accuracy: 0.9180 - val_loss: 0.9485 - val_accuracy: 0.4444\n",
            "Epoch 22/40\n",
            "8/8 [==============================] - 0s 34ms/step - loss: 0.3044 - accuracy: 0.9572 - val_loss: 0.9557 - val_accuracy: 0.4444\n",
            "Epoch 23/40\n",
            "8/8 [==============================] - 0s 32ms/step - loss: 0.4105 - accuracy: 0.9388 - val_loss: 0.9598 - val_accuracy: 0.4444\n",
            "Epoch 24/40\n",
            "8/8 [==============================] - 0s 33ms/step - loss: 0.3224 - accuracy: 0.9505 - val_loss: 0.9681 - val_accuracy: 0.4444\n",
            "Epoch 25/40\n",
            "8/8 [==============================] - 0s 34ms/step - loss: 0.3093 - accuracy: 0.9465 - val_loss: 0.9790 - val_accuracy: 0.4444\n",
            "Epoch 26/40\n",
            "8/8 [==============================] - 0s 33ms/step - loss: 0.2605 - accuracy: 0.9480 - val_loss: 0.9907 - val_accuracy: 0.4444\n",
            "Epoch 27/40\n",
            "8/8 [==============================] - 0s 33ms/step - loss: 0.2704 - accuracy: 0.9576 - val_loss: 1.0101 - val_accuracy: 0.4444\n",
            "Epoch 28/40\n",
            "8/8 [==============================] - 0s 33ms/step - loss: 0.2357 - accuracy: 0.9555 - val_loss: 1.0055 - val_accuracy: 0.4444\n",
            "Epoch 29/40\n",
            "8/8 [==============================] - 0s 34ms/step - loss: 0.2270 - accuracy: 0.9820 - val_loss: 1.0115 - val_accuracy: 0.4444\n",
            "Epoch 30/40\n",
            "8/8 [==============================] - 0s 32ms/step - loss: 0.3143 - accuracy: 0.8856 - val_loss: 0.9975 - val_accuracy: 0.4444\n",
            "Epoch 31/40\n",
            "8/8 [==============================] - 0s 33ms/step - loss: 0.3672 - accuracy: 0.8938 - val_loss: 0.9960 - val_accuracy: 0.5556\n",
            "Epoch 32/40\n",
            "8/8 [==============================] - 0s 34ms/step - loss: 0.2826 - accuracy: 0.9279 - val_loss: 0.9944 - val_accuracy: 0.5556\n",
            "Epoch 33/40\n",
            "8/8 [==============================] - 0s 35ms/step - loss: 0.2814 - accuracy: 0.9457 - val_loss: 1.0013 - val_accuracy: 0.5556\n",
            "Epoch 34/40\n",
            "8/8 [==============================] - 0s 34ms/step - loss: 0.2612 - accuracy: 0.9807 - val_loss: 0.9942 - val_accuracy: 0.5556\n",
            "Epoch 35/40\n",
            "8/8 [==============================] - 0s 34ms/step - loss: 0.2769 - accuracy: 0.9599 - val_loss: 0.9834 - val_accuracy: 0.5556\n",
            "Epoch 36/40\n",
            "8/8 [==============================] - 0s 32ms/step - loss: 0.2218 - accuracy: 0.9466 - val_loss: 0.9771 - val_accuracy: 0.5556\n",
            "Epoch 37/40\n",
            "8/8 [==============================] - 0s 35ms/step - loss: 0.3138 - accuracy: 0.8707 - val_loss: 0.9874 - val_accuracy: 0.5556\n",
            "Epoch 38/40\n",
            "8/8 [==============================] - 0s 34ms/step - loss: 0.3257 - accuracy: 0.8780 - val_loss: 0.9795 - val_accuracy: 0.5556\n",
            "Epoch 39/40\n",
            "8/8 [==============================] - 0s 33ms/step - loss: 0.2012 - accuracy: 0.9860 - val_loss: 0.9747 - val_accuracy: 0.5556\n",
            "Epoch 40/40\n",
            "8/8 [==============================] - 0s 34ms/step - loss: 0.2498 - accuracy: 0.9229 - val_loss: 0.9647 - val_accuracy: 0.5556\n"
          ],
          "name": "stdout"
        }
      ]
    },
    {
      "cell_type": "code",
      "metadata": {
        "colab": {
          "base_uri": "https://localhost:8080/",
          "height": 613
        },
        "id": "vrvl_Jvu0PbM",
        "outputId": "8e276df4-92fa-4463-8d24-09f1750dd610"
      },
      "source": [
        "plt.plot([i for i in range(epochs)], history.history['loss'], 'r-', label=\"Training Loss\")\n",
        "plt.plot([i for i in range(epochs)], history.history['val_loss'], 'b-', label=\"Validation Loss\")\n",
        "plt.xlabel(\"Epoch\")\n",
        "plt.ylabel(\"Cross-Entropy Loss\")\n",
        "plt.title(\"Loss Curve\")\n",
        "plt.legend(loc=\"upper right\")\n",
        "plt.show()\n",
        "\n",
        "plt.plot([i for i in range(epochs)], history.history['accuracy'], 'r-', label=\"Training accuracy\")\n",
        "plt.plot([i for i in range(epochs)], history.history['val_accuracy'], 'b-', label=\"Validation accuracy\")\n",
        "plt.xlabel(\"Epoch\")\n",
        "plt.ylabel(\"Cross-Entropy Loss\")\n",
        "plt.title(\"Accuracy Curve\")\n",
        "plt.legend(loc=\"upper right\")\n",
        "plt.show()"
      ],
      "execution_count": null,
      "outputs": [
        {
          "output_type": "display_data",
          "data": {
            "image/png": "[encoded data removed]",
            "text/plain": [
              "<Figure size 432x288 with 1 Axes>"
            ]
          },
          "metadata": {
            "tags": []
          }
        },
        {
          "output_type": "display_data",
          "data": {
            "image/png": "[encoded data removed]",
            "text/plain": [
              "<Figure size 432x288 with 1 Axes>"
            ]
          },
          "metadata": {
            "tags": []
          }
        }
      ]
    },
    {
      "cell_type": "code",
      "metadata": {
        "colab": {
          "base_uri": "https://localhost:8080/"
        },
        "id": "wyqVdtnv0c1W",
        "outputId": "461c2c72-39e7-4f0c-803a-aa352cbb64f7"
      },
      "source": [
        "pred_labels = model_conv.predict(X_test_conv).argmax(axis=1)\n",
        "correct = 0\n",
        "total = len(pred_labels)\n",
        "for i in range(total):\n",
        "  if pred_labels[i] == test_Y[i]:\n",
        "    correct += 1\n",
        "accuracy = correct/total\n",
        "print(\"Test Accuracy:\",accuracy*100)"
      ],
      "execution_count": null,
      "outputs": [
        {
          "output_type": "stream",
          "text": [
            "Test Accuracy: 91.30434782608695\n"
          ],
          "name": "stdout"
        }
      ]
    },
    {
      "cell_type": "code",
      "metadata": {
        "colab": {
          "base_uri": "https://localhost:8080/",
          "height": 442
        },
        "id": "Mmoj_GC3KlrE",
        "outputId": "87379a5b-1faf-496e-a891-202f1084acc1"
      },
      "source": [
        "cm = confusion_matrix(test_Y, pred_labels)\n",
        "plot_confusion_matrix(cm)"
      ],
      "execution_count": null,
      "outputs": [
        {
          "output_type": "display_data",
          "data": {
            "image/png": "[encoded data removed]",
            "text/plain": [
              "<Figure size 720x504 with 2 Axes>"
            ]
          },
          "metadata": {
            "tags": []
          }
        }
      ]
    },
    {
      "cell_type": "code",
      "metadata": {
        "colab": {
          "base_uri": "https://localhost:8080/"
        },
        "id": "tExgJWl4ZZlm",
        "outputId": "178b5351-f9fb-433f-d136-bfd6e5ddca6b"
      },
      "source": [
        "print(classification_report(test_Y, pred_labels,target_names=['Bored','Calm','Horrified','Happy']))"
      ],
      "execution_count": null,
      "outputs": [
        {
          "output_type": "stream",
          "text": [
            "              precision    recall  f1-score   support\n",
            "\n",
            "       Bored       0.75      1.00      0.86         6\n",
            "        Calm       1.00      0.83      0.91         6\n",
            "   Horrified       1.00      0.83      0.91         6\n",
            "       Happy       1.00      1.00      1.00         5\n",
            "\n",
            "    accuracy                           0.91        23\n",
            "   macro avg       0.94      0.92      0.92        23\n",
            "weighted avg       0.93      0.91      0.92        23\n",
            "\n"
          ],
          "name": "stdout"
        }
      ]
    }
  ]
}